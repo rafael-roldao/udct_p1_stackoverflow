{
 "cells": [
  {
   "cell_type": "code",
   "execution_count": null,
   "metadata": {},
   "outputs": [],
   "source": []
  },
  {
   "cell_type": "code",
   "execution_count": null,
   "metadata": {},
   "outputs": [],
   "source": []
  },
  {
   "cell_type": "code",
   "execution_count": null,
   "metadata": {},
   "outputs": [],
   "source": []
  },
  {
   "cell_type": "code",
   "execution_count": 1,
   "metadata": {},
   "outputs": [],
   "source": [
    "import numpy as np\n",
    "import pandas as pd\n",
    "import matplotlib.pyplot as plt\n",
    "from sklearn.linear_model import LinearRegression\n",
    "from sklearn.model_selection import train_test_split\n",
    "from sklearn.metrics import r2_score, mean_squared_error\n",
    "import seaborn as sns\n",
    "%matplotlib inline"
   ]
  },
  {
   "cell_type": "code",
   "execution_count": 2,
   "metadata": {},
   "outputs": [],
   "source": [
    "df_answ = pd.read_csv('survey_results_public.csv')\n",
    "df_quest = pd.read_csv('survey_results_schema.csv')"
   ]
  },
  {
   "cell_type": "code",
   "execution_count": null,
   "metadata": {},
   "outputs": [],
   "source": []
  },
  {
   "cell_type": "markdown",
   "metadata": {},
   "source": [
    "### Survey Questions\n",
    "- Before diving deep into the survey, let's understand the questions. I read all questions before explore the results of the survey"
   ]
  },
  {
   "cell_type": "code",
   "execution_count": 96,
   "metadata": {},
   "outputs": [
    {
     "data": {
      "text/plain": [
       "(154, 2)"
      ]
     },
     "execution_count": 96,
     "metadata": {},
     "output_type": "execute_result"
    }
   ],
   "source": [
    "df_quest.shape"
   ]
  },
  {
   "cell_type": "code",
   "execution_count": 309,
   "metadata": {},
   "outputs": [
    {
     "data": {
      "text/plain": [
       "'You said before that you are currently learning how to program. When you have completed your studies, what annual salary do you expect to earn in your first job after graduation?'"
      ]
     },
     "execution_count": 309,
     "metadata": {},
     "output_type": "execute_result"
    }
   ],
   "source": [
    "df_quest['Question'][153]"
   ]
  },
  {
   "cell_type": "code",
   "execution_count": 294,
   "metadata": {},
   "outputs": [
    {
     "data": {
      "text/html": [
       "<div>\n",
       "<style scoped>\n",
       "    .dataframe tbody tr th:only-of-type {\n",
       "        vertical-align: middle;\n",
       "    }\n",
       "\n",
       "    .dataframe tbody tr th {\n",
       "        vertical-align: top;\n",
       "    }\n",
       "\n",
       "    .dataframe thead th {\n",
       "        text-align: right;\n",
       "    }\n",
       "</style>\n",
       "<table border=\"1\" class=\"dataframe\">\n",
       "  <thead>\n",
       "    <tr style=\"text-align: right;\">\n",
       "      <th></th>\n",
       "      <th>QuestionsInteresting</th>\n",
       "      <th>QuestionsConfusing</th>\n",
       "      <th>InterestedAnswers</th>\n",
       "      <th>Salary</th>\n",
       "      <th>ExpectedSalary</th>\n",
       "    </tr>\n",
       "  </thead>\n",
       "  <tbody>\n",
       "    <tr>\n",
       "      <th>0</th>\n",
       "      <td>Strongly agree</td>\n",
       "      <td>Disagree</td>\n",
       "      <td>Strongly agree</td>\n",
       "      <td>NaN</td>\n",
       "      <td>NaN</td>\n",
       "    </tr>\n",
       "    <tr>\n",
       "      <th>1</th>\n",
       "      <td>Somewhat agree</td>\n",
       "      <td>Disagree</td>\n",
       "      <td>Strongly agree</td>\n",
       "      <td>NaN</td>\n",
       "      <td>37500.0</td>\n",
       "    </tr>\n",
       "    <tr>\n",
       "      <th>2</th>\n",
       "      <td>Agree</td>\n",
       "      <td>Disagree</td>\n",
       "      <td>Agree</td>\n",
       "      <td>113750.0</td>\n",
       "      <td>NaN</td>\n",
       "    </tr>\n",
       "    <tr>\n",
       "      <th>3</th>\n",
       "      <td>Agree</td>\n",
       "      <td>Somewhat agree</td>\n",
       "      <td>Strongly agree</td>\n",
       "      <td>NaN</td>\n",
       "      <td>NaN</td>\n",
       "    </tr>\n",
       "    <tr>\n",
       "      <th>4</th>\n",
       "      <td>NaN</td>\n",
       "      <td>NaN</td>\n",
       "      <td>NaN</td>\n",
       "      <td>NaN</td>\n",
       "      <td>NaN</td>\n",
       "    </tr>\n",
       "  </tbody>\n",
       "</table>\n",
       "</div>"
      ],
      "text/plain": [
       "  QuestionsInteresting QuestionsConfusing InterestedAnswers    Salary  \\\n",
       "0       Strongly agree           Disagree    Strongly agree       NaN   \n",
       "1       Somewhat agree           Disagree    Strongly agree       NaN   \n",
       "2                Agree           Disagree             Agree  113750.0   \n",
       "3                Agree     Somewhat agree    Strongly agree       NaN   \n",
       "4                  NaN                NaN               NaN       NaN   \n",
       "\n",
       "   ExpectedSalary  \n",
       "0             NaN  \n",
       "1         37500.0  \n",
       "2             NaN  \n",
       "3             NaN  \n",
       "4             NaN  "
      ]
     },
     "execution_count": 294,
     "metadata": {},
     "output_type": "execute_result"
    }
   ],
   "source": [
    "df_answ.iloc[:5,149:154]"
   ]
  },
  {
   "cell_type": "code",
   "execution_count": 278,
   "metadata": {},
   "outputs": [
    {
     "data": {
      "text/plain": [
       "Somewhat agree       11257\n",
       "Disagree              8488\n",
       "Agree                 8061\n",
       "Strongly agree        5854\n",
       "Strongly disagree     1060\n",
       "Name: SurveyLong, dtype: int64"
      ]
     },
     "execution_count": 278,
     "metadata": {},
     "output_type": "execute_result"
    }
   ],
   "source": [
    "df_answ['SurveyLong'].value_counts()"
   ]
  },
  {
   "cell_type": "markdown",
   "metadata": {},
   "source": [
    "-  After analyzing all questions, I believe the questions below are insightful for my post."
   ]
  },
  {
   "cell_type": "code",
   "execution_count": 320,
   "metadata": {},
   "outputs": [
    {
     "data": {
      "text/plain": [
       "['8) How often do you work from home or remotely?',\n",
       " '9) In terms of the number of employees, how large is the company or organization you work for?',\n",
       " '11) How long has it been since you first learned how to program?',\n",
       " '12) For how many years have you coded as part of your job?',\n",
       " '13) For how many years did you code as part of your job?',\n",
       " '17) Which of the following describe you?',\n",
       " '18) Career satisfaction rating',\n",
       " \"20) You said before that you used to code as part of your job, but no longer do. To what extent do you agree or disagree with the following statements? If money weren't an issue, I would take a coding job again\",\n",
       " '23) You said before that you used to code as part of your job, but no longer do. To what extent do you agree or disagree with the following statements? My career is going the way I thought it would 10 years ago',\n",
       " \"25) You said before that you used to code as part of your job, but no longer do. To what extent do you agree or disagree with the following statements? I don't think my coding skills are up to date\",\n",
       " '29) I love solving problems',\n",
       " '43) I like to challenge myself',\n",
       " \"78) Congratulations! You've just been put in charge of technical recruiting at Globex, a multinational high- tech firm. This job comes with a corner office, and you have an experienced staff of recruiters at your disposal. They want to know what they should prioritize when recruiting software developers. How important should each of the following be in Globex's hiring process? Track record of getting things done\",\n",
       " '104) I enjoy debugging code',\n",
       " '129) Over the last three months, approximately how often have you done each of the following on Stack Overflow? Found an answer that solved my coding problem',\n",
       " '30) Building things is very rewarding',\n",
       " '31) Learning new technologies is fun',\n",
       " '32) I tend to get bored by implementation details',\n",
       " '34) Diversity in the workplace is important',\n",
       " \"61) When you're assessing potential jobs to apply to, how important are each of the following to you? The diversity of the company or organization\",\n",
       " \"38) Honestly, there's a lot about computers that I just don't understand\",\n",
       " '40) I invest a lot of time into the tools I use',\n",
       " \"41) I don't really care what I work on, so long as I'm paid well\",\n",
       " '46) Which of the following best describes your current job-seeking status?',\n",
       " \"58) When you're assessing potential jobs to apply to, how important are each of the following to you? The opportunity to work from home/remotely\",\n",
       " \"69) Congratulations! You've just been put in charge of technical recruiting at Globex, a multinational high- tech firm. This job comes with a corner office, and you have an experienced staff of recruiters at your disposal. They want to know what they should prioritize when recruiting software developers. How important should each of the following be in Globex's hiring process? Knowledge of algorithms and data structures\",\n",
       " \"70) Congratulations! You've just been put in charge of technical recruiting at Globex, a multinational high- tech firm. This job comes with a corner office, and you have an experienced staff of recruiters at your disposal. They want to know what they should prioritize when recruiting software developers. How important should each of the following be in Globex's hiring process? Experience with specific tools (libraries, frameworks, etc.) used by the employer\",\n",
       " \"71) Congratulations! You've just been put in charge of technical recruiting at Globex, a multinational high- tech firm. This job comes with a corner office, and you have an experienced staff of recruiters at your disposal. They want to know what they should prioritize when recruiting software developers. How important should each of the following be in Globex's hiring process? Communication skills\",\n",
       " '106) I have difficulty communicating my ideas to my peers',\n",
       " \"74) Congratulations! You've just been put in charge of technical recruiting at Globex, a multinational high- tech firm. This job comes with a corner office, and you have an experienced staff of recruiters at your disposal. They want to know what they should prioritize when recruiting software developers. How important should each of the following be in Globex's hiring process? Previous companies worked at\",\n",
       " \"75) Congratulations! You've just been put in charge of technical recruiting at Globex, a multinational high- tech firm. This job comes with a corner office, and you have an experienced staff of recruiters at your disposal. They want to know what they should prioritize when recruiting software developers. How important should each of the following be in Globex's hiring process? Previous job titles held\",\n",
       " \"76) Congratulations! You've just been put in charge of technical recruiting at Globex, a multinational high- tech firm. This job comes with a corner office, and you have an experienced staff of recruiters at your disposal. They want to know what they should prioritize when recruiting software developers. How important should each of the following be in Globex's hiring process? Educational credentials (e.g. schools attended, specific field of study, grades earned)\",\n",
       " '82) Overall, how important has your formal schooling and education been to your career success?',\n",
       " '83) Outside of your formal schooling and education, which of the following have you done?',\n",
       " '80) Compared to your estimate of your own market value, do you think you are…?',\n",
       " '88) Which of the following languages have you done extensive development work in over the past year, and which do you want to work in over the next year?',\n",
       " '152) What is your current annual base salary, before taxes, and excluding bonuses, grants, or other compensation?']"
      ]
     },
     "execution_count": 320,
     "metadata": {},
     "output_type": "execute_result"
    }
   ],
   "source": [
    "['8) '+ df_quest['Question'][8],\n",
    "'9) '+ df_quest['Question'][9],\n",
    "'11) '+ df_quest['Question'][11],\n",
    "'12) '+ df_quest['Question'][12],\n",
    "'13) '+ df_quest['Question'][13],\n",
    "'17) '+ df_quest['Question'][17],\n",
    "'18) '+ df_quest['Question'][18],\n",
    "'20) '+ df_quest['Question'][20],\n",
    "'23) '+ df_quest['Question'][23],\n",
    "'25) '+ df_quest['Question'][25],\n",
    "'29) '+ df_quest['Question'][29],\n",
    "'43) '+ df_quest['Question'][43],\n",
    "'78) '+ df_quest['Question'][78],\n",
    "'104) '+ df_quest['Question'][104],\n",
    "'129) '+ df_quest['Question'][129],\n",
    "'30) '+ df_quest['Question'][30],\n",
    "'31) '+ df_quest['Question'][31],\n",
    "'32) '+ df_quest['Question'][32],\n",
    "'34) '+ df_quest['Question'][34],\n",
    "'61) '+ df_quest['Question'][61],\n",
    "'38) '+ df_quest['Question'][38],\n",
    "'40) '+ df_quest['Question'][40],\n",
    "'41) '+ df_quest['Question'][41],\n",
    "'46) '+ df_quest['Question'][46],\n",
    "'58) '+ df_quest['Question'][58],\n",
    "'69) '+ df_quest['Question'][69],\n",
    "'70) '+ df_quest['Question'][70],\n",
    "'71) '+ df_quest['Question'][71],\n",
    "'106) '+ df_quest['Question'][106],\n",
    "'74) '+ df_quest['Question'][74],\n",
    "'75) '+ df_quest['Question'][75],\n",
    "'76) '+ df_quest['Question'][76],\n",
    "'82) '+ df_quest['Question'][82],\n",
    "'83) '+ df_quest['Question'][83],\n",
    "'80) '+ df_quest['Question'][80],\n",
    "'88) '+ df_quest['Question'][88],\n",
    "'152) '+ df_quest['Question'][152]]"
   ]
  },
  {
   "cell_type": "code",
   "execution_count": null,
   "metadata": {},
   "outputs": [],
   "source": []
  },
  {
   "cell_type": "code",
   "execution_count": null,
   "metadata": {},
   "outputs": [],
   "source": []
  },
  {
   "cell_type": "code",
   "execution_count": null,
   "metadata": {},
   "outputs": [],
   "source": []
  },
  {
   "cell_type": "code",
   "execution_count": null,
   "metadata": {},
   "outputs": [],
   "source": []
  },
  {
   "cell_type": "code",
   "execution_count": null,
   "metadata": {},
   "outputs": [],
   "source": []
  },
  {
   "cell_type": "code",
   "execution_count": null,
   "metadata": {},
   "outputs": [],
   "source": []
  }
 ],
 "metadata": {
  "kernelspec": {
   "display_name": "Python 3.7.6 64-bit ('ROLD003': virtualenv)",
   "language": "python",
   "name": "python37664bitrold003virtualenv82ffed11f6f444ac89fd2ba5fdfbe0b0"
  },
  "language_info": {
   "codemirror_mode": {
    "name": "ipython",
    "version": 3
   },
   "file_extension": ".py",
   "mimetype": "text/x-python",
   "name": "python",
   "nbconvert_exporter": "python",
   "pygments_lexer": "ipython3",
   "version": "3.7.6"
  }
 },
 "nbformat": 4,
 "nbformat_minor": 4
}
