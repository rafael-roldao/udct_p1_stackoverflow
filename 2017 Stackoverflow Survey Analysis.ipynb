{
 "cells": [
  {
   "cell_type": "markdown",
   "metadata": {},
   "source": [
    "# Udacity project - write a data science blog post"
   ]
  },
  {
   "cell_type": "markdown",
   "metadata": {},
   "source": [
    "## 1. Project understanding\n",
    "\n",
    "- This project will be based on 2017 Stack Overflow annual survey. The survey includes answers from thousands of developers covering topics like programming languages, code style, salary, opinions, and advices.\n",
    "- The main goal of this analysis is get some insights regarding the importance of some soft skills and formal education."
   ]
  },
  {
   "cell_type": "markdown",
   "metadata": {},
   "source": [
    "## 2. Data understanding\n",
    "\n",
    "- In this section I will make an exploratory analysis of the 2017 Stack Overflow survey"
   ]
  },
  {
   "cell_type": "code",
   "execution_count": 1,
   "metadata": {},
   "outputs": [],
   "source": [
    "import numpy as np\n",
    "import pandas as pd\n",
    "import matplotlib.pyplot as plt\n",
    "from sklearn.linear_model import LinearRegression\n",
    "from sklearn.model_selection import train_test_split\n",
    "from sklearn.metrics import r2_score, mean_squared_error\n",
    "import seaborn as sns\n",
    "from collections import defaultdict\n",
    "%matplotlib inline"
   ]
  },
  {
   "cell_type": "code",
   "execution_count": 46,
   "metadata": {},
   "outputs": [],
   "source": [
    "df_answ = pd.read_csv('survey_results_public.csv')\n",
    "df_quest = pd.read_csv('survey_results_schema.csv')"
   ]
  },
  {
   "cell_type": "code",
   "execution_count": null,
   "metadata": {},
   "outputs": [],
   "source": []
  },
  {
   "cell_type": "markdown",
   "metadata": {},
   "source": [
    "### Survey Questions\n",
    "- Before diving deep into the survey, let's understand the questions. I read all questions before explore the results of the survey"
   ]
  },
  {
   "cell_type": "code",
   "execution_count": 3,
   "metadata": {},
   "outputs": [
    {
     "data": {
      "text/plain": [
       "(154, 2)"
      ]
     },
     "execution_count": 3,
     "metadata": {},
     "output_type": "execute_result"
    }
   ],
   "source": [
    "df_quest.shape"
   ]
  },
  {
   "cell_type": "code",
   "execution_count": 4,
   "metadata": {},
   "outputs": [
    {
     "data": {
      "text/plain": [
       "'You said before that you are currently learning how to program. When you have completed your studies, what annual salary do you expect to earn in your first job after graduation?'"
      ]
     },
     "execution_count": 4,
     "metadata": {},
     "output_type": "execute_result"
    }
   ],
   "source": [
    "df_quest['Question'][153]"
   ]
  },
  {
   "cell_type": "code",
   "execution_count": 5,
   "metadata": {},
   "outputs": [
    {
     "data": {
      "text/html": [
       "<div>\n",
       "<style scoped>\n",
       "    .dataframe tbody tr th:only-of-type {\n",
       "        vertical-align: middle;\n",
       "    }\n",
       "\n",
       "    .dataframe tbody tr th {\n",
       "        vertical-align: top;\n",
       "    }\n",
       "\n",
       "    .dataframe thead th {\n",
       "        text-align: right;\n",
       "    }\n",
       "</style>\n",
       "<table border=\"1\" class=\"dataframe\">\n",
       "  <thead>\n",
       "    <tr style=\"text-align: right;\">\n",
       "      <th></th>\n",
       "      <th>QuestionsInteresting</th>\n",
       "      <th>QuestionsConfusing</th>\n",
       "      <th>InterestedAnswers</th>\n",
       "      <th>Salary</th>\n",
       "      <th>ExpectedSalary</th>\n",
       "    </tr>\n",
       "  </thead>\n",
       "  <tbody>\n",
       "    <tr>\n",
       "      <th>0</th>\n",
       "      <td>Strongly agree</td>\n",
       "      <td>Disagree</td>\n",
       "      <td>Strongly agree</td>\n",
       "      <td>NaN</td>\n",
       "      <td>NaN</td>\n",
       "    </tr>\n",
       "    <tr>\n",
       "      <th>1</th>\n",
       "      <td>Somewhat agree</td>\n",
       "      <td>Disagree</td>\n",
       "      <td>Strongly agree</td>\n",
       "      <td>NaN</td>\n",
       "      <td>37500.0</td>\n",
       "    </tr>\n",
       "    <tr>\n",
       "      <th>2</th>\n",
       "      <td>Agree</td>\n",
       "      <td>Disagree</td>\n",
       "      <td>Agree</td>\n",
       "      <td>113750.0</td>\n",
       "      <td>NaN</td>\n",
       "    </tr>\n",
       "    <tr>\n",
       "      <th>3</th>\n",
       "      <td>Agree</td>\n",
       "      <td>Somewhat agree</td>\n",
       "      <td>Strongly agree</td>\n",
       "      <td>NaN</td>\n",
       "      <td>NaN</td>\n",
       "    </tr>\n",
       "    <tr>\n",
       "      <th>4</th>\n",
       "      <td>NaN</td>\n",
       "      <td>NaN</td>\n",
       "      <td>NaN</td>\n",
       "      <td>NaN</td>\n",
       "      <td>NaN</td>\n",
       "    </tr>\n",
       "  </tbody>\n",
       "</table>\n",
       "</div>"
      ],
      "text/plain": [
       "  QuestionsInteresting QuestionsConfusing InterestedAnswers    Salary  \\\n",
       "0       Strongly agree           Disagree    Strongly agree       NaN   \n",
       "1       Somewhat agree           Disagree    Strongly agree       NaN   \n",
       "2                Agree           Disagree             Agree  113750.0   \n",
       "3                Agree     Somewhat agree    Strongly agree       NaN   \n",
       "4                  NaN                NaN               NaN       NaN   \n",
       "\n",
       "   ExpectedSalary  \n",
       "0             NaN  \n",
       "1         37500.0  \n",
       "2             NaN  \n",
       "3             NaN  \n",
       "4             NaN  "
      ]
     },
     "execution_count": 5,
     "metadata": {},
     "output_type": "execute_result"
    }
   ],
   "source": [
    "df_answ.iloc[:5,149:154]"
   ]
  },
  {
   "cell_type": "code",
   "execution_count": 6,
   "metadata": {},
   "outputs": [
    {
     "data": {
      "text/plain": [
       "Somewhat agree       11257\n",
       "Disagree              8488\n",
       "Agree                 8061\n",
       "Strongly agree        5854\n",
       "Strongly disagree     1060\n",
       "Name: SurveyLong, dtype: int64"
      ]
     },
     "execution_count": 6,
     "metadata": {},
     "output_type": "execute_result"
    }
   ],
   "source": [
    "df_answ['SurveyLong'].value_counts()"
   ]
  },
  {
   "cell_type": "markdown",
   "metadata": {},
   "source": [
    "-  After analyzing all questions, I believe the questions below are insightful for my post."
   ]
  },
  {
   "cell_type": "code",
   "execution_count": 7,
   "metadata": {},
   "outputs": [
    {
     "data": {
      "text/plain": [
       "['8) How often do you work from home or remotely?',\n",
       " '9) In terms of the number of employees, how large is the company or organization you work for?',\n",
       " '11) How long has it been since you first learned how to program?',\n",
       " '12) For how many years have you coded as part of your job?',\n",
       " '13) For how many years did you code as part of your job?',\n",
       " '17) Which of the following describe you?',\n",
       " '18) Career satisfaction rating',\n",
       " \"20) You said before that you used to code as part of your job, but no longer do. To what extent do you agree or disagree with the following statements? If money weren't an issue, I would take a coding job again\",\n",
       " '23) You said before that you used to code as part of your job, but no longer do. To what extent do you agree or disagree with the following statements? My career is going the way I thought it would 10 years ago',\n",
       " \"25) You said before that you used to code as part of your job, but no longer do. To what extent do you agree or disagree with the following statements? I don't think my coding skills are up to date\",\n",
       " '29) I love solving problems',\n",
       " '43) I like to challenge myself',\n",
       " \"78) Congratulations! You've just been put in charge of technical recruiting at Globex, a multinational high- tech firm. This job comes with a corner office, and you have an experienced staff of recruiters at your disposal. They want to know what they should prioritize when recruiting software developers. How important should each of the following be in Globex's hiring process? Track record of getting things done\",\n",
       " '104) I enjoy debugging code',\n",
       " '129) Over the last three months, approximately how often have you done each of the following on Stack Overflow? Found an answer that solved my coding problem',\n",
       " '30) Building things is very rewarding',\n",
       " '31) Learning new technologies is fun',\n",
       " '32) I tend to get bored by implementation details',\n",
       " '34) Diversity in the workplace is important',\n",
       " \"61) When you're assessing potential jobs to apply to, how important are each of the following to you? The diversity of the company or organization\",\n",
       " \"38) Honestly, there's a lot about computers that I just don't understand\",\n",
       " '40) I invest a lot of time into the tools I use',\n",
       " \"41) I don't really care what I work on, so long as I'm paid well\",\n",
       " '46) Which of the following best describes your current job-seeking status?',\n",
       " \"58) When you're assessing potential jobs to apply to, how important are each of the following to you? The opportunity to work from home/remotely\",\n",
       " \"69) Congratulations! You've just been put in charge of technical recruiting at Globex, a multinational high- tech firm. This job comes with a corner office, and you have an experienced staff of recruiters at your disposal. They want to know what they should prioritize when recruiting software developers. How important should each of the following be in Globex's hiring process? Knowledge of algorithms and data structures\",\n",
       " \"70) Congratulations! You've just been put in charge of technical recruiting at Globex, a multinational high- tech firm. This job comes with a corner office, and you have an experienced staff of recruiters at your disposal. They want to know what they should prioritize when recruiting software developers. How important should each of the following be in Globex's hiring process? Experience with specific tools (libraries, frameworks, etc.) used by the employer\",\n",
       " \"71) Congratulations! You've just been put in charge of technical recruiting at Globex, a multinational high- tech firm. This job comes with a corner office, and you have an experienced staff of recruiters at your disposal. They want to know what they should prioritize when recruiting software developers. How important should each of the following be in Globex's hiring process? Communication skills\",\n",
       " '106) I have difficulty communicating my ideas to my peers',\n",
       " \"74) Congratulations! You've just been put in charge of technical recruiting at Globex, a multinational high- tech firm. This job comes with a corner office, and you have an experienced staff of recruiters at your disposal. They want to know what they should prioritize when recruiting software developers. How important should each of the following be in Globex's hiring process? Previous companies worked at\",\n",
       " \"75) Congratulations! You've just been put in charge of technical recruiting at Globex, a multinational high- tech firm. This job comes with a corner office, and you have an experienced staff of recruiters at your disposal. They want to know what they should prioritize when recruiting software developers. How important should each of the following be in Globex's hiring process? Previous job titles held\",\n",
       " \"76) Congratulations! You've just been put in charge of technical recruiting at Globex, a multinational high- tech firm. This job comes with a corner office, and you have an experienced staff of recruiters at your disposal. They want to know what they should prioritize when recruiting software developers. How important should each of the following be in Globex's hiring process? Educational credentials (e.g. schools attended, specific field of study, grades earned)\",\n",
       " '82) Overall, how important has your formal schooling and education been to your career success?',\n",
       " '83) Outside of your formal schooling and education, which of the following have you done?',\n",
       " '80) Compared to your estimate of your own market value, do you think you are…?',\n",
       " '88) Which of the following languages have you done extensive development work in over the past year, and which do you want to work in over the next year?',\n",
       " '152) What is your current annual base salary, before taxes, and excluding bonuses, grants, or other compensation?']"
      ]
     },
     "execution_count": 7,
     "metadata": {},
     "output_type": "execute_result"
    }
   ],
   "source": [
    "['8) '+ df_quest['Question'][8],\n",
    "'9) '+ df_quest['Question'][9],\n",
    "'11) '+ df_quest['Question'][11],\n",
    "'12) '+ df_quest['Question'][12],\n",
    "'13) '+ df_quest['Question'][13],\n",
    "'17) '+ df_quest['Question'][17],\n",
    "'18) '+ df_quest['Question'][18],\n",
    "'20) '+ df_quest['Question'][20],\n",
    "'23) '+ df_quest['Question'][23],\n",
    "'25) '+ df_quest['Question'][25],\n",
    "'29) '+ df_quest['Question'][29],\n",
    "'43) '+ df_quest['Question'][43],\n",
    "'78) '+ df_quest['Question'][78],\n",
    "'104) '+ df_quest['Question'][104],\n",
    "'129) '+ df_quest['Question'][129],\n",
    "'30) '+ df_quest['Question'][30],\n",
    "'31) '+ df_quest['Question'][31],\n",
    "'32) '+ df_quest['Question'][32],\n",
    "'34) '+ df_quest['Question'][34],\n",
    "'61) '+ df_quest['Question'][61],\n",
    "'38) '+ df_quest['Question'][38],\n",
    "'40) '+ df_quest['Question'][40],\n",
    "'41) '+ df_quest['Question'][41],\n",
    "'46) '+ df_quest['Question'][46],\n",
    "'58) '+ df_quest['Question'][58],\n",
    "'69) '+ df_quest['Question'][69],\n",
    "'70) '+ df_quest['Question'][70],\n",
    "'71) '+ df_quest['Question'][71],\n",
    "'106) '+ df_quest['Question'][106],\n",
    "'74) '+ df_quest['Question'][74],\n",
    "'75) '+ df_quest['Question'][75],\n",
    "'76) '+ df_quest['Question'][76],\n",
    "'82) '+ df_quest['Question'][82],\n",
    "'83) '+ df_quest['Question'][83],\n",
    "'80) '+ df_quest['Question'][80],\n",
    "'88) '+ df_quest['Question'][88],\n",
    "'152) '+ df_quest['Question'][152]]"
   ]
  },
  {
   "cell_type": "code",
   "execution_count": null,
   "metadata": {},
   "outputs": [],
   "source": []
  },
  {
   "cell_type": "markdown",
   "metadata": {},
   "source": [
    "## 3. Data preparation, modeling, and visualization"
   ]
  },
  {
   "cell_type": "markdown",
   "metadata": {},
   "source": [
    "### Chart #1 - Problem solving skills\n",
    "- A group of questions are related to 'problem solving' skills. This is a very interesting topic for my post, therefore I will explore those questions and prepare an appealing chart."
   ]
  },
  {
   "cell_type": "code",
   "execution_count": 8,
   "metadata": {},
   "outputs": [
    {
     "data": {
      "text/plain": [
       "(51392, 154)"
      ]
     },
     "execution_count": 8,
     "metadata": {},
     "output_type": "execute_result"
    }
   ],
   "source": [
    "df_answ.shape"
   ]
  },
  {
   "cell_type": "code",
   "execution_count": 9,
   "metadata": {},
   "outputs": [
    {
     "data": {
      "text/plain": [
       "Strongly agree       0.576487\n",
       "Agree                0.354201\n",
       "Somewhat agree       0.060397\n",
       "Disagree             0.005720\n",
       "Strongly disagree    0.003196\n",
       "Name: ProblemSolving, dtype: float64"
      ]
     },
     "execution_count": 9,
     "metadata": {},
     "output_type": "execute_result"
    }
   ],
   "source": [
    "df_answ.iloc[:,29].value_counts() / df_answ.iloc[:,29].count()"
   ]
  },
  {
   "cell_type": "code",
   "execution_count": 10,
   "metadata": {},
   "outputs": [
    {
     "data": {
      "text/plain": [
       "Agree                0.471150\n",
       "Strongly agree       0.383003\n",
       "Somewhat agree       0.124794\n",
       "Disagree             0.017016\n",
       "Strongly disagree    0.004036\n",
       "Name: ChallengeMyself, dtype: float64"
      ]
     },
     "execution_count": 10,
     "metadata": {},
     "output_type": "execute_result"
    }
   ],
   "source": [
    "df_answ.iloc[:,43].value_counts() / df_answ.iloc[:,43].count()"
   ]
  },
  {
   "cell_type": "code",
   "execution_count": 11,
   "metadata": {},
   "outputs": [
    {
     "data": {
      "text/plain": [
       "Somewhat agree       0.339829\n",
       "Agree                0.330522\n",
       "Disagree             0.179204\n",
       "Strongly agree       0.109659\n",
       "Strongly disagree    0.040786\n",
       "Name: EnjoyDebugging, dtype: float64"
      ]
     },
     "execution_count": 11,
     "metadata": {},
     "output_type": "execute_result"
    }
   ],
   "source": [
    "df_answ.iloc[:,104].value_counts() / df_answ.iloc[:,104].count()"
   ]
  },
  {
   "cell_type": "code",
   "execution_count": 12,
   "metadata": {},
   "outputs": [
    {
     "data": {
      "text/plain": [
       "Important               0.446768\n",
       "Very important          0.347592\n",
       "Somewhat important      0.164582\n",
       "Not very important      0.032825\n",
       "Not at all important    0.008233\n",
       "Name: ImportantHiringGettingThingsDone, dtype: float64"
      ]
     },
     "execution_count": 12,
     "metadata": {},
     "output_type": "execute_result"
    }
   ],
   "source": [
    "df_answ.iloc[:,78].value_counts() / df_answ.iloc[:,78].count()"
   ]
  },
  {
   "cell_type": "code",
   "execution_count": null,
   "metadata": {},
   "outputs": [],
   "source": []
  },
  {
   "cell_type": "code",
   "execution_count": 13,
   "metadata": {},
   "outputs": [
    {
     "data": {
      "text/html": [
       "<div>\n",
       "<style scoped>\n",
       "    .dataframe tbody tr th:only-of-type {\n",
       "        vertical-align: middle;\n",
       "    }\n",
       "\n",
       "    .dataframe tbody tr th {\n",
       "        vertical-align: top;\n",
       "    }\n",
       "\n",
       "    .dataframe thead th {\n",
       "        text-align: right;\n",
       "    }\n",
       "</style>\n",
       "<table border=\"1\" class=\"dataframe\">\n",
       "  <thead>\n",
       "    <tr style=\"text-align: right;\">\n",
       "      <th></th>\n",
       "      <th>ProblemSolving</th>\n",
       "      <th>ChallengeMyself</th>\n",
       "      <th>ImportantHiringGettingThingsDone</th>\n",
       "      <th>EnjoyDebugging</th>\n",
       "    </tr>\n",
       "  </thead>\n",
       "  <tbody>\n",
       "    <tr>\n",
       "      <th>0</th>\n",
       "      <td>Strongly agree</td>\n",
       "      <td>Agree</td>\n",
       "      <td>Very important</td>\n",
       "      <td>NaN</td>\n",
       "    </tr>\n",
       "    <tr>\n",
       "      <th>1</th>\n",
       "      <td>NaN</td>\n",
       "      <td>NaN</td>\n",
       "      <td>Very important</td>\n",
       "      <td>Agree</td>\n",
       "    </tr>\n",
       "    <tr>\n",
       "      <th>2</th>\n",
       "      <td>Strongly agree</td>\n",
       "      <td>Agree</td>\n",
       "      <td>NaN</td>\n",
       "      <td>Agree</td>\n",
       "    </tr>\n",
       "    <tr>\n",
       "      <th>3</th>\n",
       "      <td>Strongly agree</td>\n",
       "      <td>Strongly agree</td>\n",
       "      <td>Very important</td>\n",
       "      <td>Somewhat agree</td>\n",
       "    </tr>\n",
       "    <tr>\n",
       "      <th>4</th>\n",
       "      <td>NaN</td>\n",
       "      <td>NaN</td>\n",
       "      <td>NaN</td>\n",
       "      <td>NaN</td>\n",
       "    </tr>\n",
       "  </tbody>\n",
       "</table>\n",
       "</div>"
      ],
      "text/plain": [
       "   ProblemSolving ChallengeMyself ImportantHiringGettingThingsDone  \\\n",
       "0  Strongly agree           Agree                   Very important   \n",
       "1             NaN             NaN                   Very important   \n",
       "2  Strongly agree           Agree                              NaN   \n",
       "3  Strongly agree  Strongly agree                   Very important   \n",
       "4             NaN             NaN                              NaN   \n",
       "\n",
       "   EnjoyDebugging  \n",
       "0             NaN  \n",
       "1           Agree  \n",
       "2           Agree  \n",
       "3  Somewhat agree  \n",
       "4             NaN  "
      ]
     },
     "execution_count": 13,
     "metadata": {},
     "output_type": "execute_result"
    }
   ],
   "source": [
    "prob_solv_df = df_answ.iloc[:,[29,43,78,104]]\n",
    "prob_solv_df.head()"
   ]
  },
  {
   "cell_type": "markdown",
   "metadata": {},
   "source": [
    "- Considering the column 'ImportantHiringGettingThingsDone' have different concepts, but with similar meaning, I will create a new column with the same concepts of other columns"
   ]
  },
  {
   "cell_type": "code",
   "execution_count": 14,
   "metadata": {},
   "outputs": [
    {
     "name": "stderr",
     "output_type": "stream",
     "text": [
      "C:\\Users\\ROLD003\\anaconda3\\lib\\site-packages\\ipykernel_launcher.py:1: SettingWithCopyWarning: \n",
      "A value is trying to be set on a copy of a slice from a DataFrame.\n",
      "Try using .loc[row_indexer,col_indexer] = value instead\n",
      "\n",
      "See the caveats in the documentation: https://pandas.pydata.org/pandas-docs/stable/user_guide/indexing.html#returning-a-view-versus-a-copy\n",
      "  \"\"\"Entry point for launching an IPython kernel.\n"
     ]
    }
   ],
   "source": [
    "prob_solv_df['GettingThingsDone_new'] = prob_solv_df['ImportantHiringGettingThingsDone'].replace('Very important', 'Strongly agree').replace('Important', 'Agree').replace('Somewhat important', 'Somewhat agree').replace('Not very important', 'Disagree').replace('Not at all important', 'Strongly disagree')"
   ]
  },
  {
   "cell_type": "code",
   "execution_count": 15,
   "metadata": {},
   "outputs": [
    {
     "data": {
      "text/html": [
       "<div>\n",
       "<style scoped>\n",
       "    .dataframe tbody tr th:only-of-type {\n",
       "        vertical-align: middle;\n",
       "    }\n",
       "\n",
       "    .dataframe tbody tr th {\n",
       "        vertical-align: top;\n",
       "    }\n",
       "\n",
       "    .dataframe thead th {\n",
       "        text-align: right;\n",
       "    }\n",
       "</style>\n",
       "<table border=\"1\" class=\"dataframe\">\n",
       "  <thead>\n",
       "    <tr style=\"text-align: right;\">\n",
       "      <th></th>\n",
       "      <th>ProblemSolving</th>\n",
       "      <th>ChallengeMyself</th>\n",
       "      <th>ImportantHiringGettingThingsDone</th>\n",
       "      <th>EnjoyDebugging</th>\n",
       "      <th>GettingThingsDone_new</th>\n",
       "    </tr>\n",
       "  </thead>\n",
       "  <tbody>\n",
       "    <tr>\n",
       "      <th>0</th>\n",
       "      <td>Strongly agree</td>\n",
       "      <td>Agree</td>\n",
       "      <td>Very important</td>\n",
       "      <td>NaN</td>\n",
       "      <td>Strongly agree</td>\n",
       "    </tr>\n",
       "    <tr>\n",
       "      <th>1</th>\n",
       "      <td>NaN</td>\n",
       "      <td>NaN</td>\n",
       "      <td>Very important</td>\n",
       "      <td>Agree</td>\n",
       "      <td>Strongly agree</td>\n",
       "    </tr>\n",
       "    <tr>\n",
       "      <th>2</th>\n",
       "      <td>Strongly agree</td>\n",
       "      <td>Agree</td>\n",
       "      <td>NaN</td>\n",
       "      <td>Agree</td>\n",
       "      <td>NaN</td>\n",
       "    </tr>\n",
       "    <tr>\n",
       "      <th>3</th>\n",
       "      <td>Strongly agree</td>\n",
       "      <td>Strongly agree</td>\n",
       "      <td>Very important</td>\n",
       "      <td>Somewhat agree</td>\n",
       "      <td>Strongly agree</td>\n",
       "    </tr>\n",
       "    <tr>\n",
       "      <th>4</th>\n",
       "      <td>NaN</td>\n",
       "      <td>NaN</td>\n",
       "      <td>NaN</td>\n",
       "      <td>NaN</td>\n",
       "      <td>NaN</td>\n",
       "    </tr>\n",
       "  </tbody>\n",
       "</table>\n",
       "</div>"
      ],
      "text/plain": [
       "   ProblemSolving ChallengeMyself ImportantHiringGettingThingsDone  \\\n",
       "0  Strongly agree           Agree                   Very important   \n",
       "1             NaN             NaN                   Very important   \n",
       "2  Strongly agree           Agree                              NaN   \n",
       "3  Strongly agree  Strongly agree                   Very important   \n",
       "4             NaN             NaN                              NaN   \n",
       "\n",
       "   EnjoyDebugging GettingThingsDone_new  \n",
       "0             NaN        Strongly agree  \n",
       "1           Agree        Strongly agree  \n",
       "2           Agree                   NaN  \n",
       "3  Somewhat agree        Strongly agree  \n",
       "4             NaN                   NaN  "
      ]
     },
     "execution_count": 15,
     "metadata": {},
     "output_type": "execute_result"
    }
   ],
   "source": [
    "prob_solv_df.head()"
   ]
  },
  {
   "cell_type": "code",
   "execution_count": 16,
   "metadata": {},
   "outputs": [
    {
     "data": {
      "text/html": [
       "<div>\n",
       "<style scoped>\n",
       "    .dataframe tbody tr th:only-of-type {\n",
       "        vertical-align: middle;\n",
       "    }\n",
       "\n",
       "    .dataframe tbody tr th {\n",
       "        vertical-align: top;\n",
       "    }\n",
       "\n",
       "    .dataframe thead th {\n",
       "        text-align: right;\n",
       "    }\n",
       "</style>\n",
       "<table border=\"1\" class=\"dataframe\">\n",
       "  <thead>\n",
       "    <tr style=\"text-align: right;\">\n",
       "      <th></th>\n",
       "      <th>ProblemSolving</th>\n",
       "      <th>ChallengeMyself</th>\n",
       "      <th>EnjoyDebugging</th>\n",
       "      <th>GettingThingsDone_new</th>\n",
       "    </tr>\n",
       "  </thead>\n",
       "  <tbody>\n",
       "    <tr>\n",
       "      <th>0</th>\n",
       "      <td>Strongly agree</td>\n",
       "      <td>Agree</td>\n",
       "      <td>NaN</td>\n",
       "      <td>Strongly agree</td>\n",
       "    </tr>\n",
       "    <tr>\n",
       "      <th>1</th>\n",
       "      <td>NaN</td>\n",
       "      <td>NaN</td>\n",
       "      <td>Agree</td>\n",
       "      <td>Strongly agree</td>\n",
       "    </tr>\n",
       "    <tr>\n",
       "      <th>2</th>\n",
       "      <td>Strongly agree</td>\n",
       "      <td>Agree</td>\n",
       "      <td>Agree</td>\n",
       "      <td>NaN</td>\n",
       "    </tr>\n",
       "    <tr>\n",
       "      <th>3</th>\n",
       "      <td>Strongly agree</td>\n",
       "      <td>Strongly agree</td>\n",
       "      <td>Somewhat agree</td>\n",
       "      <td>Strongly agree</td>\n",
       "    </tr>\n",
       "    <tr>\n",
       "      <th>4</th>\n",
       "      <td>NaN</td>\n",
       "      <td>NaN</td>\n",
       "      <td>NaN</td>\n",
       "      <td>NaN</td>\n",
       "    </tr>\n",
       "  </tbody>\n",
       "</table>\n",
       "</div>"
      ],
      "text/plain": [
       "   ProblemSolving ChallengeMyself  EnjoyDebugging GettingThingsDone_new\n",
       "0  Strongly agree           Agree             NaN        Strongly agree\n",
       "1             NaN             NaN           Agree        Strongly agree\n",
       "2  Strongly agree           Agree           Agree                   NaN\n",
       "3  Strongly agree  Strongly agree  Somewhat agree        Strongly agree\n",
       "4             NaN             NaN             NaN                   NaN"
      ]
     },
     "execution_count": 16,
     "metadata": {},
     "output_type": "execute_result"
    }
   ],
   "source": [
    "prob_solv_df = prob_solv_df.drop(['ImportantHiringGettingThingsDone'], axis=1)\n",
    "prob_solv_df.head()"
   ]
  },
  {
   "cell_type": "markdown",
   "metadata": {},
   "source": [
    "- I will create the scale of the concepts to use in the bar chart"
   ]
  },
  {
   "cell_type": "code",
   "execution_count": 17,
   "metadata": {},
   "outputs": [],
   "source": [
    "agr_scale = ['Strongly agree', 'Agree', 'Somewhat agree', 'Disagree', 'Strongly disagree']\n",
    "agr_classes = pd.api.types.CategoricalDtype(ordered=True, categories=agr_scale)\n",
    "\n",
    "prob_solv_df.iloc[:,:] = prob_solv_df.iloc[:,:].astype(agr_classes)"
   ]
  },
  {
   "cell_type": "code",
   "execution_count": 18,
   "metadata": {},
   "outputs": [
    {
     "data": {
      "text/html": [
       "<div>\n",
       "<style scoped>\n",
       "    .dataframe tbody tr th:only-of-type {\n",
       "        vertical-align: middle;\n",
       "    }\n",
       "\n",
       "    .dataframe tbody tr th {\n",
       "        vertical-align: top;\n",
       "    }\n",
       "\n",
       "    .dataframe thead th {\n",
       "        text-align: right;\n",
       "    }\n",
       "</style>\n",
       "<table border=\"1\" class=\"dataframe\">\n",
       "  <thead>\n",
       "    <tr style=\"text-align: right;\">\n",
       "      <th></th>\n",
       "      <th>ProblemSolving</th>\n",
       "      <th>ChallengeMyself</th>\n",
       "      <th>EnjoyDebugging</th>\n",
       "      <th>GettingThingsDone_new</th>\n",
       "    </tr>\n",
       "  </thead>\n",
       "  <tbody>\n",
       "    <tr>\n",
       "      <th>0</th>\n",
       "      <td>Strongly agree</td>\n",
       "      <td>Agree</td>\n",
       "      <td>NaN</td>\n",
       "      <td>Strongly agree</td>\n",
       "    </tr>\n",
       "    <tr>\n",
       "      <th>1</th>\n",
       "      <td>NaN</td>\n",
       "      <td>NaN</td>\n",
       "      <td>Agree</td>\n",
       "      <td>Strongly agree</td>\n",
       "    </tr>\n",
       "    <tr>\n",
       "      <th>2</th>\n",
       "      <td>Strongly agree</td>\n",
       "      <td>Agree</td>\n",
       "      <td>Agree</td>\n",
       "      <td>NaN</td>\n",
       "    </tr>\n",
       "    <tr>\n",
       "      <th>3</th>\n",
       "      <td>Strongly agree</td>\n",
       "      <td>Strongly agree</td>\n",
       "      <td>Somewhat agree</td>\n",
       "      <td>Strongly agree</td>\n",
       "    </tr>\n",
       "    <tr>\n",
       "      <th>4</th>\n",
       "      <td>NaN</td>\n",
       "      <td>NaN</td>\n",
       "      <td>NaN</td>\n",
       "      <td>NaN</td>\n",
       "    </tr>\n",
       "  </tbody>\n",
       "</table>\n",
       "</div>"
      ],
      "text/plain": [
       "   ProblemSolving ChallengeMyself  EnjoyDebugging GettingThingsDone_new\n",
       "0  Strongly agree           Agree             NaN        Strongly agree\n",
       "1             NaN             NaN           Agree        Strongly agree\n",
       "2  Strongly agree           Agree           Agree                   NaN\n",
       "3  Strongly agree  Strongly agree  Somewhat agree        Strongly agree\n",
       "4             NaN             NaN             NaN                   NaN"
      ]
     },
     "execution_count": 18,
     "metadata": {},
     "output_type": "execute_result"
    }
   ],
   "source": [
    "prob_solv_df.head()"
   ]
  },
  {
   "cell_type": "code",
   "execution_count": null,
   "metadata": {},
   "outputs": [],
   "source": []
  },
  {
   "cell_type": "markdown",
   "metadata": {},
   "source": [
    "- I will create a new DataFrame to see the answers of each question by group (in % total of the column)"
   ]
  },
  {
   "cell_type": "code",
   "execution_count": 19,
   "metadata": {
    "scrolled": true
   },
   "outputs": [
    {
     "data": {
      "text/html": [
       "<div>\n",
       "<style scoped>\n",
       "    .dataframe tbody tr th:only-of-type {\n",
       "        vertical-align: middle;\n",
       "    }\n",
       "\n",
       "    .dataframe tbody tr th {\n",
       "        vertical-align: top;\n",
       "    }\n",
       "\n",
       "    .dataframe thead th {\n",
       "        text-align: right;\n",
       "    }\n",
       "</style>\n",
       "<table border=\"1\" class=\"dataframe\">\n",
       "  <thead>\n",
       "    <tr style=\"text-align: right;\">\n",
       "      <th></th>\n",
       "      <th>index</th>\n",
       "      <th>ProblemSolving</th>\n",
       "    </tr>\n",
       "  </thead>\n",
       "  <tbody>\n",
       "    <tr>\n",
       "      <th>0</th>\n",
       "      <td>Strongly agree</td>\n",
       "      <td>0.576487</td>\n",
       "    </tr>\n",
       "    <tr>\n",
       "      <th>1</th>\n",
       "      <td>Agree</td>\n",
       "      <td>0.354201</td>\n",
       "    </tr>\n",
       "    <tr>\n",
       "      <th>2</th>\n",
       "      <td>Somewhat agree</td>\n",
       "      <td>0.060397</td>\n",
       "    </tr>\n",
       "    <tr>\n",
       "      <th>3</th>\n",
       "      <td>Disagree</td>\n",
       "      <td>0.005720</td>\n",
       "    </tr>\n",
       "    <tr>\n",
       "      <th>4</th>\n",
       "      <td>Strongly disagree</td>\n",
       "      <td>0.003196</td>\n",
       "    </tr>\n",
       "  </tbody>\n",
       "</table>\n",
       "</div>"
      ],
      "text/plain": [
       "               index  ProblemSolving\n",
       "0     Strongly agree        0.576487\n",
       "1              Agree        0.354201\n",
       "2     Somewhat agree        0.060397\n",
       "3           Disagree        0.005720\n",
       "4  Strongly disagree        0.003196"
      ]
     },
     "execution_count": 19,
     "metadata": {},
     "output_type": "execute_result"
    }
   ],
   "source": [
    "PS = prob_solv_df['ProblemSolving'].value_counts() / prob_solv_df['ProblemSolving'].count()\n",
    "PS = pd.DataFrame(data=PS, columns=['ProblemSolving']).reset_index()\n",
    "PS"
   ]
  },
  {
   "cell_type": "code",
   "execution_count": 20,
   "metadata": {},
   "outputs": [
    {
     "data": {
      "text/html": [
       "<div>\n",
       "<style scoped>\n",
       "    .dataframe tbody tr th:only-of-type {\n",
       "        vertical-align: middle;\n",
       "    }\n",
       "\n",
       "    .dataframe tbody tr th {\n",
       "        vertical-align: top;\n",
       "    }\n",
       "\n",
       "    .dataframe thead th {\n",
       "        text-align: right;\n",
       "    }\n",
       "</style>\n",
       "<table border=\"1\" class=\"dataframe\">\n",
       "  <thead>\n",
       "    <tr style=\"text-align: right;\">\n",
       "      <th></th>\n",
       "      <th>index</th>\n",
       "      <th>ChallengeMyself</th>\n",
       "    </tr>\n",
       "  </thead>\n",
       "  <tbody>\n",
       "    <tr>\n",
       "      <th>0</th>\n",
       "      <td>Agree</td>\n",
       "      <td>0.471150</td>\n",
       "    </tr>\n",
       "    <tr>\n",
       "      <th>1</th>\n",
       "      <td>Strongly agree</td>\n",
       "      <td>0.383003</td>\n",
       "    </tr>\n",
       "    <tr>\n",
       "      <th>2</th>\n",
       "      <td>Somewhat agree</td>\n",
       "      <td>0.124794</td>\n",
       "    </tr>\n",
       "    <tr>\n",
       "      <th>3</th>\n",
       "      <td>Disagree</td>\n",
       "      <td>0.017016</td>\n",
       "    </tr>\n",
       "    <tr>\n",
       "      <th>4</th>\n",
       "      <td>Strongly disagree</td>\n",
       "      <td>0.004036</td>\n",
       "    </tr>\n",
       "  </tbody>\n",
       "</table>\n",
       "</div>"
      ],
      "text/plain": [
       "               index  ChallengeMyself\n",
       "0              Agree         0.471150\n",
       "1     Strongly agree         0.383003\n",
       "2     Somewhat agree         0.124794\n",
       "3           Disagree         0.017016\n",
       "4  Strongly disagree         0.004036"
      ]
     },
     "execution_count": 20,
     "metadata": {},
     "output_type": "execute_result"
    }
   ],
   "source": [
    "CM = prob_solv_df['ChallengeMyself'].value_counts() / prob_solv_df['ChallengeMyself'].count()\n",
    "CM = pd.DataFrame(data=CM, columns=['ChallengeMyself']).reset_index()\n",
    "CM"
   ]
  },
  {
   "cell_type": "code",
   "execution_count": 21,
   "metadata": {},
   "outputs": [
    {
     "data": {
      "text/html": [
       "<div>\n",
       "<style scoped>\n",
       "    .dataframe tbody tr th:only-of-type {\n",
       "        vertical-align: middle;\n",
       "    }\n",
       "\n",
       "    .dataframe tbody tr th {\n",
       "        vertical-align: top;\n",
       "    }\n",
       "\n",
       "    .dataframe thead th {\n",
       "        text-align: right;\n",
       "    }\n",
       "</style>\n",
       "<table border=\"1\" class=\"dataframe\">\n",
       "  <thead>\n",
       "    <tr style=\"text-align: right;\">\n",
       "      <th></th>\n",
       "      <th>index</th>\n",
       "      <th>EnjoyDebugging</th>\n",
       "    </tr>\n",
       "  </thead>\n",
       "  <tbody>\n",
       "    <tr>\n",
       "      <th>0</th>\n",
       "      <td>Somewhat agree</td>\n",
       "      <td>0.339829</td>\n",
       "    </tr>\n",
       "    <tr>\n",
       "      <th>1</th>\n",
       "      <td>Agree</td>\n",
       "      <td>0.330522</td>\n",
       "    </tr>\n",
       "    <tr>\n",
       "      <th>2</th>\n",
       "      <td>Disagree</td>\n",
       "      <td>0.179204</td>\n",
       "    </tr>\n",
       "    <tr>\n",
       "      <th>3</th>\n",
       "      <td>Strongly agree</td>\n",
       "      <td>0.109659</td>\n",
       "    </tr>\n",
       "    <tr>\n",
       "      <th>4</th>\n",
       "      <td>Strongly disagree</td>\n",
       "      <td>0.040786</td>\n",
       "    </tr>\n",
       "  </tbody>\n",
       "</table>\n",
       "</div>"
      ],
      "text/plain": [
       "               index  EnjoyDebugging\n",
       "0     Somewhat agree        0.339829\n",
       "1              Agree        0.330522\n",
       "2           Disagree        0.179204\n",
       "3     Strongly agree        0.109659\n",
       "4  Strongly disagree        0.040786"
      ]
     },
     "execution_count": 21,
     "metadata": {},
     "output_type": "execute_result"
    }
   ],
   "source": [
    "ED = prob_solv_df['EnjoyDebugging'].value_counts() / prob_solv_df['EnjoyDebugging'].count()\n",
    "ED = pd.DataFrame(data=ED, columns=['EnjoyDebugging']).reset_index()\n",
    "ED"
   ]
  },
  {
   "cell_type": "code",
   "execution_count": 22,
   "metadata": {},
   "outputs": [
    {
     "data": {
      "text/html": [
       "<div>\n",
       "<style scoped>\n",
       "    .dataframe tbody tr th:only-of-type {\n",
       "        vertical-align: middle;\n",
       "    }\n",
       "\n",
       "    .dataframe tbody tr th {\n",
       "        vertical-align: top;\n",
       "    }\n",
       "\n",
       "    .dataframe thead th {\n",
       "        text-align: right;\n",
       "    }\n",
       "</style>\n",
       "<table border=\"1\" class=\"dataframe\">\n",
       "  <thead>\n",
       "    <tr style=\"text-align: right;\">\n",
       "      <th></th>\n",
       "      <th>index</th>\n",
       "      <th>GettingThingsDone</th>\n",
       "    </tr>\n",
       "  </thead>\n",
       "  <tbody>\n",
       "    <tr>\n",
       "      <th>0</th>\n",
       "      <td>Agree</td>\n",
       "      <td>0.446768</td>\n",
       "    </tr>\n",
       "    <tr>\n",
       "      <th>1</th>\n",
       "      <td>Strongly agree</td>\n",
       "      <td>0.347592</td>\n",
       "    </tr>\n",
       "    <tr>\n",
       "      <th>2</th>\n",
       "      <td>Somewhat agree</td>\n",
       "      <td>0.164582</td>\n",
       "    </tr>\n",
       "    <tr>\n",
       "      <th>3</th>\n",
       "      <td>Disagree</td>\n",
       "      <td>0.032825</td>\n",
       "    </tr>\n",
       "    <tr>\n",
       "      <th>4</th>\n",
       "      <td>Strongly disagree</td>\n",
       "      <td>0.008233</td>\n",
       "    </tr>\n",
       "  </tbody>\n",
       "</table>\n",
       "</div>"
      ],
      "text/plain": [
       "               index  GettingThingsDone\n",
       "0              Agree           0.446768\n",
       "1     Strongly agree           0.347592\n",
       "2     Somewhat agree           0.164582\n",
       "3           Disagree           0.032825\n",
       "4  Strongly disagree           0.008233"
      ]
     },
     "execution_count": 22,
     "metadata": {},
     "output_type": "execute_result"
    }
   ],
   "source": [
    "GTD = prob_solv_df['GettingThingsDone_new'].value_counts() / prob_solv_df['GettingThingsDone_new'].count()\n",
    "GTD = pd.DataFrame(data=GTD, columns=['GettingThingsDone_new']).reset_index()\n",
    "GTD = GTD.rename(columns={'GettingThingsDone_new': 'GettingThingsDone'})\n",
    "GTD"
   ]
  },
  {
   "cell_type": "code",
   "execution_count": 23,
   "metadata": {},
   "outputs": [
    {
     "data": {
      "text/html": [
       "<div>\n",
       "<style scoped>\n",
       "    .dataframe tbody tr th:only-of-type {\n",
       "        vertical-align: middle;\n",
       "    }\n",
       "\n",
       "    .dataframe tbody tr th {\n",
       "        vertical-align: top;\n",
       "    }\n",
       "\n",
       "    .dataframe thead th {\n",
       "        text-align: right;\n",
       "    }\n",
       "</style>\n",
       "<table border=\"1\" class=\"dataframe\">\n",
       "  <thead>\n",
       "    <tr style=\"text-align: right;\">\n",
       "      <th></th>\n",
       "      <th>index</th>\n",
       "      <th>ProblemSolving</th>\n",
       "      <th>ChallengeMyself</th>\n",
       "      <th>EnjoyDebugging</th>\n",
       "      <th>GettingThingsDone</th>\n",
       "    </tr>\n",
       "  </thead>\n",
       "  <tbody>\n",
       "    <tr>\n",
       "      <th>0</th>\n",
       "      <td>Strongly agree</td>\n",
       "      <td>0.576487</td>\n",
       "      <td>0.383003</td>\n",
       "      <td>0.109659</td>\n",
       "      <td>0.347592</td>\n",
       "    </tr>\n",
       "    <tr>\n",
       "      <th>1</th>\n",
       "      <td>Agree</td>\n",
       "      <td>0.354201</td>\n",
       "      <td>0.471150</td>\n",
       "      <td>0.330522</td>\n",
       "      <td>0.446768</td>\n",
       "    </tr>\n",
       "    <tr>\n",
       "      <th>2</th>\n",
       "      <td>Somewhat agree</td>\n",
       "      <td>0.060397</td>\n",
       "      <td>0.124794</td>\n",
       "      <td>0.339829</td>\n",
       "      <td>0.164582</td>\n",
       "    </tr>\n",
       "    <tr>\n",
       "      <th>3</th>\n",
       "      <td>Disagree</td>\n",
       "      <td>0.005720</td>\n",
       "      <td>0.017016</td>\n",
       "      <td>0.179204</td>\n",
       "      <td>0.032825</td>\n",
       "    </tr>\n",
       "    <tr>\n",
       "      <th>4</th>\n",
       "      <td>Strongly disagree</td>\n",
       "      <td>0.003196</td>\n",
       "      <td>0.004036</td>\n",
       "      <td>0.040786</td>\n",
       "      <td>0.008233</td>\n",
       "    </tr>\n",
       "  </tbody>\n",
       "</table>\n",
       "</div>"
      ],
      "text/plain": [
       "               index  ProblemSolving  ChallengeMyself  EnjoyDebugging  \\\n",
       "0     Strongly agree        0.576487         0.383003        0.109659   \n",
       "1              Agree        0.354201         0.471150        0.330522   \n",
       "2     Somewhat agree        0.060397         0.124794        0.339829   \n",
       "3           Disagree        0.005720         0.017016        0.179204   \n",
       "4  Strongly disagree        0.003196         0.004036        0.040786   \n",
       "\n",
       "   GettingThingsDone  \n",
       "0           0.347592  \n",
       "1           0.446768  \n",
       "2           0.164582  \n",
       "3           0.032825  \n",
       "4           0.008233  "
      ]
     },
     "execution_count": 23,
     "metadata": {},
     "output_type": "execute_result"
    }
   ],
   "source": [
    "prob_solv_perc_df = PS.merge(CM, how='left').merge(ED, how='left').merge(GTD, how='left')\n",
    "prob_solv_perc_df"
   ]
  },
  {
   "cell_type": "markdown",
   "metadata": {},
   "source": [
    "- I will create a bar chart to support my arguments that 'problem solving' skills are important to learn coding"
   ]
  },
  {
   "cell_type": "code",
   "execution_count": 24,
   "metadata": {},
   "outputs": [
    {
     "data": {
      "image/png": "[encoded data removed]",
      "text/plain": [
       "<Figure size 936x432 with 1 Axes>"
      ]
     },
     "metadata": {
      "needs_background": "light"
     },
     "output_type": "display_data"
    }
   ],
   "source": [
    "prob_solv_perc_df.plot(x='index', y=['ProblemSolving', 'ChallengeMyself', 'GettingThingsDone', 'EnjoyDebugging'], \n",
    "                       kind=\"bar\", color=['black', 'grey', 'silver', 'lightsteelblue'], figsize=[13,6],\n",
    "                       label = ['I love solving problems', 'I like to challenge myself', 'For hiring is important track record of getting things done', 'I enjoy debugging code']);\n",
    "plt.xticks(rotation=0, size=15);\n",
    "yticks = [0, 0.1, 0.2, 0.3, 0.4, 0.5, 0.6]\n",
    "yticks_new = ['0%', '10%', '20%', '30%', '40%', '50%', '60%']\n",
    "plt.yticks(yticks, yticks_new, size=15);\n",
    "plt.xlabel('');\n",
    "plt.ylabel('% total by question', size=15);\n",
    "plt.legend(fontsize=13);"
   ]
  },
  {
   "cell_type": "code",
   "execution_count": null,
   "metadata": {},
   "outputs": [],
   "source": []
  },
  {
   "cell_type": "markdown",
   "metadata": {},
   "source": [
    "### Chart #2 - Communication skills\n",
    "- 2 questions raised the importance of communication skills. I decided to include this topic in my post."
   ]
  },
  {
   "cell_type": "code",
   "execution_count": 25,
   "metadata": {},
   "outputs": [
    {
     "data": {
      "text/plain": [
       "[\"71) Congratulations! You've just been put in charge of technical recruiting at Globex, a multinational high- tech firm. This job comes with a corner office, and you have an experienced staff of recruiters at your disposal. They want to know what they should prioritize when recruiting software developers. How important should each of the following be in Globex's hiring process? Communication skills\",\n",
       " '106) I have difficulty communicating my ideas to my peers']"
      ]
     },
     "execution_count": 25,
     "metadata": {},
     "output_type": "execute_result"
    }
   ],
   "source": [
    "['71) '+ df_quest['Question'][71],\n",
    "'106) '+ df_quest['Question'][106]]"
   ]
  },
  {
   "cell_type": "code",
   "execution_count": 26,
   "metadata": {},
   "outputs": [
    {
     "data": {
      "text/html": [
       "<div>\n",
       "<style scoped>\n",
       "    .dataframe tbody tr th:only-of-type {\n",
       "        vertical-align: middle;\n",
       "    }\n",
       "\n",
       "    .dataframe tbody tr th {\n",
       "        vertical-align: top;\n",
       "    }\n",
       "\n",
       "    .dataframe thead th {\n",
       "        text-align: right;\n",
       "    }\n",
       "</style>\n",
       "<table border=\"1\" class=\"dataframe\">\n",
       "  <thead>\n",
       "    <tr style=\"text-align: right;\">\n",
       "      <th></th>\n",
       "      <th>scale</th>\n",
       "      <th>ImportantHiringCommunication</th>\n",
       "    </tr>\n",
       "  </thead>\n",
       "  <tbody>\n",
       "    <tr>\n",
       "      <th>0</th>\n",
       "      <td>Important</td>\n",
       "      <td>0.458675</td>\n",
       "    </tr>\n",
       "    <tr>\n",
       "      <th>1</th>\n",
       "      <td>Very important</td>\n",
       "      <td>0.341318</td>\n",
       "    </tr>\n",
       "    <tr>\n",
       "      <th>2</th>\n",
       "      <td>Somewhat important</td>\n",
       "      <td>0.165858</td>\n",
       "    </tr>\n",
       "    <tr>\n",
       "      <th>3</th>\n",
       "      <td>Not very important</td>\n",
       "      <td>0.028981</td>\n",
       "    </tr>\n",
       "    <tr>\n",
       "      <th>4</th>\n",
       "      <td>Not at all important</td>\n",
       "      <td>0.005168</td>\n",
       "    </tr>\n",
       "  </tbody>\n",
       "</table>\n",
       "</div>"
      ],
      "text/plain": [
       "                  scale  ImportantHiringCommunication\n",
       "0             Important                      0.458675\n",
       "1        Very important                      0.341318\n",
       "2    Somewhat important                      0.165858\n",
       "3    Not very important                      0.028981\n",
       "4  Not at all important                      0.005168"
      ]
     },
     "execution_count": 26,
     "metadata": {},
     "output_type": "execute_result"
    }
   ],
   "source": [
    "com_hir = df_answ.iloc[:,71].value_counts() / df_answ.iloc[:,71].count()\n",
    "com_hir = pd.DataFrame(com_hir).reset_index().rename(columns={'index': 'scale'})\n",
    "com_hir"
   ]
  },
  {
   "cell_type": "code",
   "execution_count": 27,
   "metadata": {},
   "outputs": [
    {
     "data": {
      "text/html": [
       "<div>\n",
       "<style scoped>\n",
       "    .dataframe tbody tr th:only-of-type {\n",
       "        vertical-align: middle;\n",
       "    }\n",
       "\n",
       "    .dataframe tbody tr th {\n",
       "        vertical-align: top;\n",
       "    }\n",
       "\n",
       "    .dataframe thead th {\n",
       "        text-align: right;\n",
       "    }\n",
       "</style>\n",
       "<table border=\"1\" class=\"dataframe\">\n",
       "  <thead>\n",
       "    <tr style=\"text-align: right;\">\n",
       "      <th></th>\n",
       "      <th>scale</th>\n",
       "      <th>ImportantHiringCommunication</th>\n",
       "    </tr>\n",
       "  </thead>\n",
       "  <tbody>\n",
       "    <tr>\n",
       "      <th>1</th>\n",
       "      <td>Very important</td>\n",
       "      <td>0.341318</td>\n",
       "    </tr>\n",
       "    <tr>\n",
       "      <th>0</th>\n",
       "      <td>Important</td>\n",
       "      <td>0.458675</td>\n",
       "    </tr>\n",
       "    <tr>\n",
       "      <th>2</th>\n",
       "      <td>Somewhat important</td>\n",
       "      <td>0.165858</td>\n",
       "    </tr>\n",
       "    <tr>\n",
       "      <th>3</th>\n",
       "      <td>Not very important</td>\n",
       "      <td>0.028981</td>\n",
       "    </tr>\n",
       "    <tr>\n",
       "      <th>4</th>\n",
       "      <td>Not at all important</td>\n",
       "      <td>0.005168</td>\n",
       "    </tr>\n",
       "  </tbody>\n",
       "</table>\n",
       "</div>"
      ],
      "text/plain": [
       "                  scale  ImportantHiringCommunication\n",
       "1        Very important                      0.341318\n",
       "0             Important                      0.458675\n",
       "2    Somewhat important                      0.165858\n",
       "3    Not very important                      0.028981\n",
       "4  Not at all important                      0.005168"
      ]
     },
     "execution_count": 27,
     "metadata": {},
     "output_type": "execute_result"
    }
   ],
   "source": [
    "agr_scale2 = ['Very important', 'Important', 'Somewhat important', 'Not very important', 'Not at all important']\n",
    "agr_classes2 = pd.api.types.CategoricalDtype(ordered=True, categories=agr_scale2)\n",
    "com_hir['scale'] = com_hir['scale'].astype(agr_classes2)\n",
    "\n",
    "com_hir = com_hir.sort_values('scale')\n",
    "com_hir"
   ]
  },
  {
   "cell_type": "code",
   "execution_count": 28,
   "metadata": {},
   "outputs": [
    {
     "data": {
      "image/png": "[encoded data removed]",
      "text/plain": [
       "<Figure size 864x288 with 1 Axes>"
      ]
     },
     "metadata": {
      "needs_background": "light"
     },
     "output_type": "display_data"
    }
   ],
   "source": [
    "scale = com_hir['scale']\n",
    "hiring = com_hir['ImportantHiringCommunication']\n",
    "fig, ax = plt.subplots(figsize =(12, 4))\n",
    "ax.bar(scale, hiring, color='black')\n",
    "for i in ax.patches: \n",
    "    height = i.get_height() + 0.01\n",
    "    plt.text(i.get_x() + i.get_width() - 0.54, 1.01*height,\n",
    "                '{:0.1f}%'.format(100*height), fontsize=15) \n",
    "\n",
    "ax.spines['top'].set_visible(False)\n",
    "ax.spines['right'].set_visible(False)\n",
    "ax.spines['left'].set_visible(False)\n",
    "plt.xticks(fontsize=13, rotation=10)\n",
    "plt.yticks([]);\n",
    "plt.title('How important are communication skills in the hiring process?', fontsize=15, y=1.08);"
   ]
  },
  {
   "cell_type": "code",
   "execution_count": null,
   "metadata": {},
   "outputs": [],
   "source": []
  },
  {
   "cell_type": "code",
   "execution_count": 29,
   "metadata": {},
   "outputs": [
    {
     "data": {
      "text/html": [
       "<div>\n",
       "<style scoped>\n",
       "    .dataframe tbody tr th:only-of-type {\n",
       "        vertical-align: middle;\n",
       "    }\n",
       "\n",
       "    .dataframe tbody tr th {\n",
       "        vertical-align: top;\n",
       "    }\n",
       "\n",
       "    .dataframe thead th {\n",
       "        text-align: right;\n",
       "    }\n",
       "</style>\n",
       "<table border=\"1\" class=\"dataframe\">\n",
       "  <thead>\n",
       "    <tr style=\"text-align: right;\">\n",
       "      <th></th>\n",
       "      <th>scale</th>\n",
       "      <th>DifficultCommunication</th>\n",
       "    </tr>\n",
       "  </thead>\n",
       "  <tbody>\n",
       "    <tr>\n",
       "      <th>0</th>\n",
       "      <td>Disagree</td>\n",
       "      <td>0.498819</td>\n",
       "    </tr>\n",
       "    <tr>\n",
       "      <th>1</th>\n",
       "      <td>Somewhat agree</td>\n",
       "      <td>0.215587</td>\n",
       "    </tr>\n",
       "    <tr>\n",
       "      <th>2</th>\n",
       "      <td>Strongly disagree</td>\n",
       "      <td>0.178475</td>\n",
       "    </tr>\n",
       "    <tr>\n",
       "      <th>3</th>\n",
       "      <td>Agree</td>\n",
       "      <td>0.085796</td>\n",
       "    </tr>\n",
       "    <tr>\n",
       "      <th>4</th>\n",
       "      <td>Strongly agree</td>\n",
       "      <td>0.021323</td>\n",
       "    </tr>\n",
       "  </tbody>\n",
       "</table>\n",
       "</div>"
      ],
      "text/plain": [
       "               scale  DifficultCommunication\n",
       "0           Disagree                0.498819\n",
       "1     Somewhat agree                0.215587\n",
       "2  Strongly disagree                0.178475\n",
       "3              Agree                0.085796\n",
       "4     Strongly agree                0.021323"
      ]
     },
     "execution_count": 29,
     "metadata": {},
     "output_type": "execute_result"
    }
   ],
   "source": [
    "com_diff = df_answ.iloc[:,106].value_counts() / df_answ.iloc[:,106].count()\n",
    "com_diff = pd.DataFrame(com_diff).reset_index().rename(columns={'index': 'scale'})\n",
    "com_diff"
   ]
  },
  {
   "cell_type": "code",
   "execution_count": 30,
   "metadata": {},
   "outputs": [
    {
     "data": {
      "text/html": [
       "<div>\n",
       "<style scoped>\n",
       "    .dataframe tbody tr th:only-of-type {\n",
       "        vertical-align: middle;\n",
       "    }\n",
       "\n",
       "    .dataframe tbody tr th {\n",
       "        vertical-align: top;\n",
       "    }\n",
       "\n",
       "    .dataframe thead th {\n",
       "        text-align: right;\n",
       "    }\n",
       "</style>\n",
       "<table border=\"1\" class=\"dataframe\">\n",
       "  <thead>\n",
       "    <tr style=\"text-align: right;\">\n",
       "      <th></th>\n",
       "      <th>scale</th>\n",
       "      <th>DifficultCommunication</th>\n",
       "    </tr>\n",
       "  </thead>\n",
       "  <tbody>\n",
       "    <tr>\n",
       "      <th>4</th>\n",
       "      <td>Strongly agree</td>\n",
       "      <td>0.021323</td>\n",
       "    </tr>\n",
       "    <tr>\n",
       "      <th>3</th>\n",
       "      <td>Agree</td>\n",
       "      <td>0.085796</td>\n",
       "    </tr>\n",
       "    <tr>\n",
       "      <th>1</th>\n",
       "      <td>Somewhat agree</td>\n",
       "      <td>0.215587</td>\n",
       "    </tr>\n",
       "    <tr>\n",
       "      <th>0</th>\n",
       "      <td>Disagree</td>\n",
       "      <td>0.498819</td>\n",
       "    </tr>\n",
       "    <tr>\n",
       "      <th>2</th>\n",
       "      <td>Strongly disagree</td>\n",
       "      <td>0.178475</td>\n",
       "    </tr>\n",
       "  </tbody>\n",
       "</table>\n",
       "</div>"
      ],
      "text/plain": [
       "               scale  DifficultCommunication\n",
       "4     Strongly agree                0.021323\n",
       "3              Agree                0.085796\n",
       "1     Somewhat agree                0.215587\n",
       "0           Disagree                0.498819\n",
       "2  Strongly disagree                0.178475"
      ]
     },
     "execution_count": 30,
     "metadata": {},
     "output_type": "execute_result"
    }
   ],
   "source": [
    "agr_scale = ['Strongly agree', 'Agree', 'Somewhat agree', 'Disagree', 'Strongly disagree']\n",
    "agr_classes = pd.api.types.CategoricalDtype(ordered=True, categories=agr_scale)\n",
    "com_diff['scale'] = com_diff['scale'].astype(agr_classes)\n",
    "\n",
    "com_diff = com_diff.sort_values('scale')\n",
    "com_diff"
   ]
  },
  {
   "cell_type": "code",
   "execution_count": 31,
   "metadata": {},
   "outputs": [
    {
     "data": {
      "image/png": "[encoded data removed]",
      "text/plain": [
       "<Figure size 864x288 with 1 Axes>"
      ]
     },
     "metadata": {
      "needs_background": "light"
     },
     "output_type": "display_data"
    }
   ],
   "source": [
    "scale = com_diff['scale']\n",
    "communic = com_diff['DifficultCommunication']\n",
    "fig, ax = plt.subplots(figsize =(12, 4))\n",
    "ax.bar(scale, communic, color='black')\n",
    "for i in ax.patches: \n",
    "    height = i.get_height() + 0.01\n",
    "    plt.text(i.get_x() + i.get_width() - 0.54, 1.01*height,\n",
    "                '{:0.1f}%'.format(100*height), fontsize=15) \n",
    "\n",
    "ax.spines['top'].set_visible(False)\n",
    "ax.spines['right'].set_visible(False)\n",
    "ax.spines['left'].set_visible(False)\n",
    "plt.xticks(fontsize=13, rotation=0)\n",
    "plt.yticks([]);\n",
    "plt.title('I have difficulty communicating my ideas to my peers', fontsize=15, y=1.08);"
   ]
  },
  {
   "cell_type": "code",
   "execution_count": null,
   "metadata": {},
   "outputs": [],
   "source": []
  },
  {
   "cell_type": "code",
   "execution_count": null,
   "metadata": {},
   "outputs": [],
   "source": []
  },
  {
   "cell_type": "markdown",
   "metadata": {},
   "source": [
    "### Chart #3 - Formal education\n",
    "- The formal education determined the professional success of the developers?"
   ]
  },
  {
   "cell_type": "code",
   "execution_count": 32,
   "metadata": {},
   "outputs": [
    {
     "data": {
      "text/plain": [
       "[\"76) Congratulations! You've just been put in charge of technical recruiting at Globex, a multinational high- tech firm. This job comes with a corner office, and you have an experienced staff of recruiters at your disposal. They want to know what they should prioritize when recruiting software developers. How important should each of the following be in Globex's hiring process? Educational credentials (e.g. schools attended, specific field of study, grades earned)\",\n",
       " '82) Overall, how important has your formal schooling and education been to your career success?',\n",
       " '83) Outside of your formal schooling and education, which of the following have you done?']"
      ]
     },
     "execution_count": 32,
     "metadata": {},
     "output_type": "execute_result"
    }
   ],
   "source": [
    "['76) '+ df_quest['Question'][76],\n",
    "'82) '+ df_quest['Question'][82],\n",
    "'83) '+ df_quest['Question'][83]]"
   ]
  },
  {
   "cell_type": "code",
   "execution_count": 33,
   "metadata": {},
   "outputs": [
    {
     "data": {
      "text/plain": [
       "Somewhat important      11034\n",
       "Not very important       8282\n",
       "Important                5423\n",
       "Not at all important     2908\n",
       "Very important           1016\n",
       "Name: ImportantHiringEducation, dtype: int64"
      ]
     },
     "execution_count": 33,
     "metadata": {},
     "output_type": "execute_result"
    }
   ],
   "source": [
    "df_answ.iloc[:,76].value_counts()"
   ]
  },
  {
   "cell_type": "code",
   "execution_count": 34,
   "metadata": {},
   "outputs": [
    {
     "data": {
      "text/plain": [
       "Somewhat important      6289\n",
       "Important               5861\n",
       "Not very important      4795\n",
       "Very important          3716\n",
       "Not at all important    2694\n",
       "Name: EducationImportant, dtype: int64"
      ]
     },
     "execution_count": 34,
     "metadata": {},
     "output_type": "execute_result"
    }
   ],
   "source": [
    "df_answ.iloc[:,82].value_counts()"
   ]
  },
  {
   "cell_type": "code",
   "execution_count": 35,
   "metadata": {},
   "outputs": [
    {
     "data": {
      "text/plain": [
       "Self-taught                                                                                                                                    3691\n",
       "Online course; Self-taught                                                                                                                     1875\n",
       "Self-taught; Open source contributions                                                                                                         1751\n",
       "On-the-job training; Self-taught                                                                                                               1687\n",
       "Online course; On-the-job training; Self-taught                                                                                                1276\n",
       "                                                                                                                                               ... \n",
       "Bootcamp; Part-time/evening course; Industry certification; On-the-job training; Self-taught; Coding competition; Open source contributions       1\n",
       "Bootcamp; Industry certification; Hackathon; Open source contributions                                                                            1\n",
       "Online course; Bootcamp; Part-time/evening course; Open source contributions                                                                      1\n",
       "Bootcamp; On-the-job training; Coding competition; Open source contributions                                                                      1\n",
       "Bootcamp; Part-time/evening course; Industry certification; Self-taught; Coding competition; Hackathon; Open source contributions                 1\n",
       "Name: EducationTypes, Length: 447, dtype: int64"
      ]
     },
     "execution_count": 35,
     "metadata": {},
     "output_type": "execute_result"
    }
   ],
   "source": [
    "df_answ.iloc[:,83].value_counts()"
   ]
  },
  {
   "cell_type": "code",
   "execution_count": null,
   "metadata": {},
   "outputs": [],
   "source": []
  },
  {
   "cell_type": "code",
   "execution_count": 36,
   "metadata": {},
   "outputs": [
    {
     "data": {
      "text/html": [
       "<div>\n",
       "<style scoped>\n",
       "    .dataframe tbody tr th:only-of-type {\n",
       "        vertical-align: middle;\n",
       "    }\n",
       "\n",
       "    .dataframe tbody tr th {\n",
       "        vertical-align: top;\n",
       "    }\n",
       "\n",
       "    .dataframe thead th {\n",
       "        text-align: right;\n",
       "    }\n",
       "</style>\n",
       "<table border=\"1\" class=\"dataframe\">\n",
       "  <thead>\n",
       "    <tr style=\"text-align: right;\">\n",
       "      <th></th>\n",
       "      <th>scale</th>\n",
       "      <th>EducationImportant</th>\n",
       "    </tr>\n",
       "  </thead>\n",
       "  <tbody>\n",
       "    <tr>\n",
       "      <th>0</th>\n",
       "      <td>Somewhat important</td>\n",
       "      <td>0.269279</td>\n",
       "    </tr>\n",
       "    <tr>\n",
       "      <th>1</th>\n",
       "      <td>Important</td>\n",
       "      <td>0.250953</td>\n",
       "    </tr>\n",
       "    <tr>\n",
       "      <th>2</th>\n",
       "      <td>Not very important</td>\n",
       "      <td>0.205309</td>\n",
       "    </tr>\n",
       "    <tr>\n",
       "      <th>3</th>\n",
       "      <td>Very important</td>\n",
       "      <td>0.159109</td>\n",
       "    </tr>\n",
       "    <tr>\n",
       "      <th>4</th>\n",
       "      <td>Not at all important</td>\n",
       "      <td>0.115350</td>\n",
       "    </tr>\n",
       "  </tbody>\n",
       "</table>\n",
       "</div>"
      ],
      "text/plain": [
       "                  scale  EducationImportant\n",
       "0    Somewhat important            0.269279\n",
       "1             Important            0.250953\n",
       "2    Not very important            0.205309\n",
       "3        Very important            0.159109\n",
       "4  Not at all important            0.115350"
      ]
     },
     "execution_count": 36,
     "metadata": {},
     "output_type": "execute_result"
    }
   ],
   "source": [
    "formal_edu = df_answ.iloc[:,82].value_counts() / df_answ.iloc[:,82].count()\n",
    "formal_edu = pd.DataFrame(formal_edu).reset_index().rename(columns={'index': 'scale'})\n",
    "formal_edu"
   ]
  },
  {
   "cell_type": "code",
   "execution_count": 37,
   "metadata": {},
   "outputs": [
    {
     "data": {
      "text/html": [
       "<div>\n",
       "<style scoped>\n",
       "    .dataframe tbody tr th:only-of-type {\n",
       "        vertical-align: middle;\n",
       "    }\n",
       "\n",
       "    .dataframe tbody tr th {\n",
       "        vertical-align: top;\n",
       "    }\n",
       "\n",
       "    .dataframe thead th {\n",
       "        text-align: right;\n",
       "    }\n",
       "</style>\n",
       "<table border=\"1\" class=\"dataframe\">\n",
       "  <thead>\n",
       "    <tr style=\"text-align: right;\">\n",
       "      <th></th>\n",
       "      <th>scale</th>\n",
       "      <th>EducationImportant</th>\n",
       "    </tr>\n",
       "  </thead>\n",
       "  <tbody>\n",
       "    <tr>\n",
       "      <th>3</th>\n",
       "      <td>Very important</td>\n",
       "      <td>0.159109</td>\n",
       "    </tr>\n",
       "    <tr>\n",
       "      <th>1</th>\n",
       "      <td>Important</td>\n",
       "      <td>0.250953</td>\n",
       "    </tr>\n",
       "    <tr>\n",
       "      <th>0</th>\n",
       "      <td>Somewhat important</td>\n",
       "      <td>0.269279</td>\n",
       "    </tr>\n",
       "    <tr>\n",
       "      <th>2</th>\n",
       "      <td>Not very important</td>\n",
       "      <td>0.205309</td>\n",
       "    </tr>\n",
       "    <tr>\n",
       "      <th>4</th>\n",
       "      <td>Not at all important</td>\n",
       "      <td>0.115350</td>\n",
       "    </tr>\n",
       "  </tbody>\n",
       "</table>\n",
       "</div>"
      ],
      "text/plain": [
       "                  scale  EducationImportant\n",
       "3        Very important            0.159109\n",
       "1             Important            0.250953\n",
       "0    Somewhat important            0.269279\n",
       "2    Not very important            0.205309\n",
       "4  Not at all important            0.115350"
      ]
     },
     "execution_count": 37,
     "metadata": {},
     "output_type": "execute_result"
    }
   ],
   "source": [
    "agr_scale2 = ['Very important', 'Important', 'Somewhat important', 'Not very important', 'Not at all important']\n",
    "agr_classes2 = pd.api.types.CategoricalDtype(ordered=True, categories=agr_scale2)\n",
    "formal_edu['scale'] = formal_edu['scale'].astype(agr_classes2)\n",
    "\n",
    "formal_edu = formal_edu.sort_values('scale')\n",
    "formal_edu"
   ]
  },
  {
   "cell_type": "code",
   "execution_count": 38,
   "metadata": {},
   "outputs": [
    {
     "data": {
      "image/png": "[encoded data removed]",
      "text/plain": [
       "<Figure size 864x288 with 1 Axes>"
      ]
     },
     "metadata": {
      "needs_background": "light"
     },
     "output_type": "display_data"
    }
   ],
   "source": [
    "scale = formal_edu['scale']\n",
    "education = formal_edu['EducationImportant']\n",
    "fig, ax = plt.subplots(figsize =(12, 4))\n",
    "ax.bar(scale, education, color='black')\n",
    "for i in ax.patches: \n",
    "    height = i.get_height() + 0.01\n",
    "    plt.text(i.get_x() + i.get_width() - 0.54, 1.01*height,\n",
    "                '{:0.1f}%'.format(100*height), fontsize=15) \n",
    "\n",
    "ax.spines['top'].set_visible(False)\n",
    "ax.spines['right'].set_visible(False)\n",
    "ax.spines['left'].set_visible(False)\n",
    "plt.xticks(fontsize=13, rotation=10)\n",
    "plt.yticks([]);\n",
    "plt.title('How important has your formal schooling and education been to your career success?', fontsize=15, y=1.08);"
   ]
  },
  {
   "cell_type": "code",
   "execution_count": null,
   "metadata": {},
   "outputs": [],
   "source": []
  },
  {
   "cell_type": "markdown",
   "metadata": {},
   "source": [
    "- For this question, I will consider only people with salary above $ 10,000"
   ]
  },
  {
   "cell_type": "code",
   "execution_count": 39,
   "metadata": {},
   "outputs": [
    {
     "data": {
      "text/html": [
       "<div>\n",
       "<style scoped>\n",
       "    .dataframe tbody tr th:only-of-type {\n",
       "        vertical-align: middle;\n",
       "    }\n",
       "\n",
       "    .dataframe tbody tr th {\n",
       "        vertical-align: top;\n",
       "    }\n",
       "\n",
       "    .dataframe thead th {\n",
       "        text-align: right;\n",
       "    }\n",
       "</style>\n",
       "<table border=\"1\" class=\"dataframe\">\n",
       "  <thead>\n",
       "    <tr style=\"text-align: right;\">\n",
       "      <th></th>\n",
       "      <th>method</th>\n",
       "      <th>count</th>\n",
       "    </tr>\n",
       "  </thead>\n",
       "  <tbody>\n",
       "    <tr>\n",
       "      <th>0</th>\n",
       "      <td>Self-taught</td>\n",
       "      <td>739</td>\n",
       "    </tr>\n",
       "    <tr>\n",
       "      <th>1</th>\n",
       "      <td>On-the-job training; Self-taught</td>\n",
       "      <td>516</td>\n",
       "    </tr>\n",
       "    <tr>\n",
       "      <th>2</th>\n",
       "      <td>Self-taught; Open source contributions</td>\n",
       "      <td>419</td>\n",
       "    </tr>\n",
       "    <tr>\n",
       "      <th>3</th>\n",
       "      <td>Online course; On-the-job training; Self-taught</td>\n",
       "      <td>385</td>\n",
       "    </tr>\n",
       "    <tr>\n",
       "      <th>4</th>\n",
       "      <td>Online course; Self-taught</td>\n",
       "      <td>333</td>\n",
       "    </tr>\n",
       "    <tr>\n",
       "      <th>...</th>\n",
       "      <td>...</td>\n",
       "      <td>...</td>\n",
       "    </tr>\n",
       "    <tr>\n",
       "      <th>335</th>\n",
       "      <td>Industry certification; On-the-job training; C...</td>\n",
       "      <td>1</td>\n",
       "    </tr>\n",
       "    <tr>\n",
       "      <th>336</th>\n",
       "      <td>Part-time/evening course; Industry certificati...</td>\n",
       "      <td>1</td>\n",
       "    </tr>\n",
       "    <tr>\n",
       "      <th>337</th>\n",
       "      <td>Industry certification; On-the-job training; C...</td>\n",
       "      <td>1</td>\n",
       "    </tr>\n",
       "    <tr>\n",
       "      <th>338</th>\n",
       "      <td>Online course; Part-time/evening course; On-th...</td>\n",
       "      <td>1</td>\n",
       "    </tr>\n",
       "    <tr>\n",
       "      <th>339</th>\n",
       "      <td>Online course; Bootcamp; Coding competition; O...</td>\n",
       "      <td>1</td>\n",
       "    </tr>\n",
       "  </tbody>\n",
       "</table>\n",
       "<p>340 rows × 2 columns</p>\n",
       "</div>"
      ],
      "text/plain": [
       "                                                method  count\n",
       "0                                          Self-taught    739\n",
       "1                     On-the-job training; Self-taught    516\n",
       "2               Self-taught; Open source contributions    419\n",
       "3      Online course; On-the-job training; Self-taught    385\n",
       "4                           Online course; Self-taught    333\n",
       "..                                                 ...    ...\n",
       "335  Industry certification; On-the-job training; C...      1\n",
       "336  Part-time/evening course; Industry certificati...      1\n",
       "337  Industry certification; On-the-job training; C...      1\n",
       "338  Online course; Part-time/evening course; On-th...      1\n",
       "339  Online course; Bootcamp; Coding competition; O...      1\n",
       "\n",
       "[340 rows x 2 columns]"
      ]
     },
     "execution_count": 39,
     "metadata": {},
     "output_type": "execute_result"
    }
   ],
   "source": [
    "learn_ex_formal = df_answ.iloc[:,[83,152]]\n",
    "learn_ex_formal = learn_ex_formal.dropna(subset=['Salary'], how='any')\n",
    "learn_ex_formal_edu = learn_ex_formal[learn_ex_formal['Salary'] > 10000]\n",
    "learn_ex_formal_edu = learn_ex_formal_edu['EducationTypes'].value_counts().reset_index().rename(columns={'index':'method', 'EducationTypes':'count'})\n",
    "learn_ex_formal_edu"
   ]
  },
  {
   "cell_type": "code",
   "execution_count": 40,
   "metadata": {},
   "outputs": [
    {
     "data": {
      "text/html": [
       "<div>\n",
       "<style scoped>\n",
       "    .dataframe tbody tr th:only-of-type {\n",
       "        vertical-align: middle;\n",
       "    }\n",
       "\n",
       "    .dataframe tbody tr th {\n",
       "        vertical-align: top;\n",
       "    }\n",
       "\n",
       "    .dataframe thead th {\n",
       "        text-align: right;\n",
       "    }\n",
       "</style>\n",
       "<table border=\"1\" class=\"dataframe\">\n",
       "  <thead>\n",
       "    <tr style=\"text-align: right;\">\n",
       "      <th></th>\n",
       "      <th>method</th>\n",
       "      <th>count</th>\n",
       "    </tr>\n",
       "  </thead>\n",
       "  <tbody>\n",
       "    <tr>\n",
       "      <th>0</th>\n",
       "      <td>Self-taught</td>\n",
       "      <td>739</td>\n",
       "    </tr>\n",
       "    <tr>\n",
       "      <th>1</th>\n",
       "      <td>On-the-job training; Self-taught</td>\n",
       "      <td>516</td>\n",
       "    </tr>\n",
       "    <tr>\n",
       "      <th>2</th>\n",
       "      <td>Self-taught; Open source contributions</td>\n",
       "      <td>419</td>\n",
       "    </tr>\n",
       "    <tr>\n",
       "      <th>3</th>\n",
       "      <td>Online course; On-the-job training; Self-taught</td>\n",
       "      <td>385</td>\n",
       "    </tr>\n",
       "    <tr>\n",
       "      <th>4</th>\n",
       "      <td>Online course; Self-taught</td>\n",
       "      <td>333</td>\n",
       "    </tr>\n",
       "    <tr>\n",
       "      <th>...</th>\n",
       "      <td>...</td>\n",
       "      <td>...</td>\n",
       "    </tr>\n",
       "    <tr>\n",
       "      <th>335</th>\n",
       "      <td>Industry certification; On-the-job training; C...</td>\n",
       "      <td>1</td>\n",
       "    </tr>\n",
       "    <tr>\n",
       "      <th>336</th>\n",
       "      <td>Part-time/evening course; Industry certificati...</td>\n",
       "      <td>1</td>\n",
       "    </tr>\n",
       "    <tr>\n",
       "      <th>337</th>\n",
       "      <td>Industry certification; On-the-job training; C...</td>\n",
       "      <td>1</td>\n",
       "    </tr>\n",
       "    <tr>\n",
       "      <th>338</th>\n",
       "      <td>Online course; Part-time/evening course; On-th...</td>\n",
       "      <td>1</td>\n",
       "    </tr>\n",
       "    <tr>\n",
       "      <th>339</th>\n",
       "      <td>Online course; Bootcamp; Coding competition; O...</td>\n",
       "      <td>1</td>\n",
       "    </tr>\n",
       "  </tbody>\n",
       "</table>\n",
       "<p>340 rows × 2 columns</p>\n",
       "</div>"
      ],
      "text/plain": [
       "                                                method  count\n",
       "0                                          Self-taught    739\n",
       "1                     On-the-job training; Self-taught    516\n",
       "2               Self-taught; Open source contributions    419\n",
       "3      Online course; On-the-job training; Self-taught    385\n",
       "4                           Online course; Self-taught    333\n",
       "..                                                 ...    ...\n",
       "335  Industry certification; On-the-job training; C...      1\n",
       "336  Part-time/evening course; Industry certificati...      1\n",
       "337  Industry certification; On-the-job training; C...      1\n",
       "338  Online course; Part-time/evening course; On-th...      1\n",
       "339  Online course; Bootcamp; Coding competition; O...      1\n",
       "\n",
       "[340 rows x 2 columns]"
      ]
     },
     "execution_count": 40,
     "metadata": {},
     "output_type": "execute_result"
    }
   ],
   "source": [
    "learn_ex_formal_edu"
   ]
  },
  {
   "cell_type": "code",
   "execution_count": 41,
   "metadata": {},
   "outputs": [
    {
     "data": {
      "text/plain": [
       "Part-time/evening course; On-the-job training; Self-taught; Open source contributions                                                    69\n",
       "Online course; Bootcamp; Part-time/evening course; Industry certification; On-the-job training; Hackathon; Open source contributions      1\n",
       "Bootcamp; Part-time/evening course; Industry certification; On-the-job training                                                           1\n",
       "Coding competition                                                                                                                       87\n",
       "Online course; Industry certification                                                                                                    28\n",
       "Industry certification; On-the-job training; Coding competition; Open source contributions                                                1\n",
       "Online course; Bootcamp; Part-time/evening course; Industry certification; On-the-job training; Self-taught; Hackathon                    8\n",
       "Online course; Part-time/evening course; On-the-job training; Coding competition; Hackathon                                               1\n",
       "Online course; On-the-job training; Self-taught; Coding competition; Hackathon; Open source contributions                               227\n",
       "Online course; Part-time/evening course; Hackathon                                                                                        9\n",
       "Name: EducationTypes, dtype: int64"
      ]
     },
     "execution_count": 41,
     "metadata": {},
     "output_type": "execute_result"
    }
   ],
   "source": [
    "df_answ.iloc[:,83].value_counts().sample(10)"
   ]
  },
  {
   "cell_type": "markdown",
   "metadata": {},
   "source": [
    "- Considering this is a multiple choice question, I have to group the answers by term"
   ]
  },
  {
   "cell_type": "code",
   "execution_count": 42,
   "metadata": {},
   "outputs": [],
   "source": [
    "ex_formal_list = [\"Self-taught\", \"Online course\", \"On-the-job training\", \n",
    "                  \"Open source contributions\", \"Hackathon\", \"Coding competition\", \n",
    "                  \"Part-time/evening course\", \"Industry certification\", \"Bootcamp\"]\n",
    "\n",
    "\n",
    "ex_formal_df = defaultdict(int)\n",
    "\n",
    "for val in ex_formal_list:\n",
    "    for idx in range(learn_ex_formal_edu.shape[0]):\n",
    "        if val in learn_ex_formal_edu['method'][idx]:\n",
    "            ex_formal_df[val] += int(learn_ex_formal_edu['count'][idx])\n",
    "ex_formal_df = pd.DataFrame(pd.Series(ex_formal_df)).reset_index()\n",
    "ex_formal_df.columns = ['method', 'count']\n",
    "ex_formal_df.sort_values('count', ascending=False, inplace=True)"
   ]
  },
  {
   "cell_type": "code",
   "execution_count": 43,
   "metadata": {},
   "outputs": [
    {
     "data": {
      "text/html": [
       "<div>\n",
       "<style scoped>\n",
       "    .dataframe tbody tr th:only-of-type {\n",
       "        vertical-align: middle;\n",
       "    }\n",
       "\n",
       "    .dataframe tbody tr th {\n",
       "        vertical-align: top;\n",
       "    }\n",
       "\n",
       "    .dataframe thead th {\n",
       "        text-align: right;\n",
       "    }\n",
       "</style>\n",
       "<table border=\"1\" class=\"dataframe\">\n",
       "  <thead>\n",
       "    <tr style=\"text-align: right;\">\n",
       "      <th></th>\n",
       "      <th>method</th>\n",
       "      <th>count</th>\n",
       "    </tr>\n",
       "  </thead>\n",
       "  <tbody>\n",
       "    <tr>\n",
       "      <th>0</th>\n",
       "      <td>Self-taught</td>\n",
       "      <td>7272</td>\n",
       "    </tr>\n",
       "    <tr>\n",
       "      <th>2</th>\n",
       "      <td>On-the-job training</td>\n",
       "      <td>3861</td>\n",
       "    </tr>\n",
       "    <tr>\n",
       "      <th>1</th>\n",
       "      <td>Online course</td>\n",
       "      <td>3469</td>\n",
       "    </tr>\n",
       "    <tr>\n",
       "      <th>3</th>\n",
       "      <td>Open source contributions</td>\n",
       "      <td>3285</td>\n",
       "    </tr>\n",
       "    <tr>\n",
       "      <th>4</th>\n",
       "      <td>Hackathon</td>\n",
       "      <td>2236</td>\n",
       "    </tr>\n",
       "    <tr>\n",
       "      <th>5</th>\n",
       "      <td>Coding competition</td>\n",
       "      <td>1768</td>\n",
       "    </tr>\n",
       "    <tr>\n",
       "      <th>7</th>\n",
       "      <td>Industry certification</td>\n",
       "      <td>1270</td>\n",
       "    </tr>\n",
       "    <tr>\n",
       "      <th>6</th>\n",
       "      <td>Part-time/evening course</td>\n",
       "      <td>956</td>\n",
       "    </tr>\n",
       "    <tr>\n",
       "      <th>8</th>\n",
       "      <td>Bootcamp</td>\n",
       "      <td>674</td>\n",
       "    </tr>\n",
       "  </tbody>\n",
       "</table>\n",
       "</div>"
      ],
      "text/plain": [
       "                      method  count\n",
       "0                Self-taught   7272\n",
       "2        On-the-job training   3861\n",
       "1              Online course   3469\n",
       "3  Open source contributions   3285\n",
       "4                  Hackathon   2236\n",
       "5         Coding competition   1768\n",
       "7     Industry certification   1270\n",
       "6   Part-time/evening course    956\n",
       "8                   Bootcamp    674"
      ]
     },
     "execution_count": 43,
     "metadata": {},
     "output_type": "execute_result"
    }
   ],
   "source": [
    "ex_formal_df"
   ]
  },
  {
   "cell_type": "code",
   "execution_count": 44,
   "metadata": {},
   "outputs": [
    {
     "data": {
      "text/html": [
       "<div>\n",
       "<style scoped>\n",
       "    .dataframe tbody tr th:only-of-type {\n",
       "        vertical-align: middle;\n",
       "    }\n",
       "\n",
       "    .dataframe tbody tr th {\n",
       "        vertical-align: top;\n",
       "    }\n",
       "\n",
       "    .dataframe thead th {\n",
       "        text-align: right;\n",
       "    }\n",
       "</style>\n",
       "<table border=\"1\" class=\"dataframe\">\n",
       "  <thead>\n",
       "    <tr style=\"text-align: right;\">\n",
       "      <th></th>\n",
       "      <th>method</th>\n",
       "      <th>count</th>\n",
       "      <th>perc</th>\n",
       "    </tr>\n",
       "  </thead>\n",
       "  <tbody>\n",
       "    <tr>\n",
       "      <th>0</th>\n",
       "      <td>Self-taught</td>\n",
       "      <td>7272</td>\n",
       "      <td>0.293332</td>\n",
       "    </tr>\n",
       "    <tr>\n",
       "      <th>2</th>\n",
       "      <td>On-the-job training</td>\n",
       "      <td>3861</td>\n",
       "      <td>0.155742</td>\n",
       "    </tr>\n",
       "    <tr>\n",
       "      <th>1</th>\n",
       "      <td>Online course</td>\n",
       "      <td>3469</td>\n",
       "      <td>0.139930</td>\n",
       "    </tr>\n",
       "    <tr>\n",
       "      <th>3</th>\n",
       "      <td>Open source contributions</td>\n",
       "      <td>3285</td>\n",
       "      <td>0.132508</td>\n",
       "    </tr>\n",
       "    <tr>\n",
       "      <th>4</th>\n",
       "      <td>Hackathon</td>\n",
       "      <td>2236</td>\n",
       "      <td>0.090194</td>\n",
       "    </tr>\n",
       "    <tr>\n",
       "      <th>5</th>\n",
       "      <td>Coding competition</td>\n",
       "      <td>1768</td>\n",
       "      <td>0.071316</td>\n",
       "    </tr>\n",
       "    <tr>\n",
       "      <th>7</th>\n",
       "      <td>Industry certification</td>\n",
       "      <td>1270</td>\n",
       "      <td>0.051228</td>\n",
       "    </tr>\n",
       "    <tr>\n",
       "      <th>6</th>\n",
       "      <td>Part-time/evening course</td>\n",
       "      <td>956</td>\n",
       "      <td>0.038562</td>\n",
       "    </tr>\n",
       "    <tr>\n",
       "      <th>8</th>\n",
       "      <td>Bootcamp</td>\n",
       "      <td>674</td>\n",
       "      <td>0.027187</td>\n",
       "    </tr>\n",
       "  </tbody>\n",
       "</table>\n",
       "</div>"
      ],
      "text/plain": [
       "                      method  count      perc\n",
       "0                Self-taught   7272  0.293332\n",
       "2        On-the-job training   3861  0.155742\n",
       "1              Online course   3469  0.139930\n",
       "3  Open source contributions   3285  0.132508\n",
       "4                  Hackathon   2236  0.090194\n",
       "5         Coding competition   1768  0.071316\n",
       "7     Industry certification   1270  0.051228\n",
       "6   Part-time/evening course    956  0.038562\n",
       "8                   Bootcamp    674  0.027187"
      ]
     },
     "execution_count": 44,
     "metadata": {},
     "output_type": "execute_result"
    }
   ],
   "source": [
    "ex_formal_df['perc'] = ex_formal_df['count'] / ex_formal_df['count'].sum()\n",
    "ex_formal_df = ex_formal_df.sort_values('perc', ascending=False)\n",
    "ex_formal_df"
   ]
  },
  {
   "cell_type": "code",
   "execution_count": 45,
   "metadata": {},
   "outputs": [
    {
     "data": {
      "image/png": "[encoded data removed]",
      "text/plain": [
       "<Figure size 360x576 with 1 Axes>"
      ]
     },
     "metadata": {
      "needs_background": "light"
     },
     "output_type": "display_data"
    }
   ],
   "source": [
    "plt.figure(figsize=(5,8))\n",
    "plt.barh(data=ex_formal_df.sort_values('perc'), y='method', width='perc', color='black')\n",
    "xticks = [0, 0.05, 0.1, 0.15, 0.2, 0.25, 0.3]\n",
    "xticks_new = ['0%', '5%', '10%', '15%', '20%', '25%', '30%']\n",
    "plt.xticks(xticks, xticks_new, fontsize=13, rotation=0)\n",
    "plt.yticks(fontsize=13);\n",
    "plt.title('Outside of your formal schooling and education, which of the following have you done?', fontsize=15, y=1.03);"
   ]
  },
  {
   "cell_type": "code",
   "execution_count": null,
   "metadata": {},
   "outputs": [],
   "source": []
  },
  {
   "cell_type": "code",
   "execution_count": null,
   "metadata": {},
   "outputs": [],
   "source": []
  },
  {
   "cell_type": "code",
   "execution_count": null,
   "metadata": {},
   "outputs": [],
   "source": []
  }
 ],
 "metadata": {
  "kernelspec": {
   "display_name": "Python 3.7.6 64-bit ('ROLD003': virtualenv)",
   "language": "python",
   "name": "python37664bitrold003virtualenv82ffed11f6f444ac89fd2ba5fdfbe0b0"
  },
  "language_info": {
   "codemirror_mode": {
    "name": "ipython",
    "version": 3
   },
   "file_extension": ".py",
   "mimetype": "text/x-python",
   "name": "python",
   "nbconvert_exporter": "python",
   "pygments_lexer": "ipython3",
   "version": "3.7.6"
  }
 },
 "nbformat": 4,
 "nbformat_minor": 4
}
