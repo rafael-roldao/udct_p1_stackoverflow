{
 "cells": [
  {
   "cell_type": "code",
   "execution_count": null,
   "metadata": {},
   "outputs": [],
   "source": []
  },
  {
   "cell_type": "code",
   "execution_count": null,
   "metadata": {},
   "outputs": [],
   "source": []
  },
  {
   "cell_type": "code",
   "execution_count": null,
   "metadata": {},
   "outputs": [],
   "source": []
  },
  {
   "cell_type": "code",
   "execution_count": 1,
   "metadata": {},
   "outputs": [],
   "source": [
    "import numpy as np\n",
    "import pandas as pd\n",
    "import matplotlib.pyplot as plt\n",
    "from sklearn.linear_model import LinearRegression\n",
    "from sklearn.model_selection import train_test_split\n",
    "from sklearn.metrics import r2_score, mean_squared_error\n",
    "import seaborn as sns\n",
    "%matplotlib inline"
   ]
  },
  {
   "cell_type": "code",
   "execution_count": 216,
   "metadata": {},
   "outputs": [],
   "source": [
    "df_answ = pd.read_csv('survey_results_public.csv')\n",
    "df_quest = pd.read_csv('survey_results_schema.csv')"
   ]
  },
  {
   "cell_type": "code",
   "execution_count": null,
   "metadata": {},
   "outputs": [],
   "source": []
  },
  {
   "cell_type": "markdown",
   "metadata": {},
   "source": [
    "### Survey Questions\n",
    "- Before diving deep into the survey, let's understand the questions. I read all questions before explore the results of the survey"
   ]
  },
  {
   "cell_type": "code",
   "execution_count": 217,
   "metadata": {},
   "outputs": [
    {
     "data": {
      "text/plain": [
       "(154, 2)"
      ]
     },
     "execution_count": 217,
     "metadata": {},
     "output_type": "execute_result"
    }
   ],
   "source": [
    "df_quest.shape"
   ]
  },
  {
   "cell_type": "code",
   "execution_count": 218,
   "metadata": {},
   "outputs": [
    {
     "data": {
      "text/plain": [
       "'You said before that you are currently learning how to program. When you have completed your studies, what annual salary do you expect to earn in your first job after graduation?'"
      ]
     },
     "execution_count": 218,
     "metadata": {},
     "output_type": "execute_result"
    }
   ],
   "source": [
    "df_quest['Question'][153]"
   ]
  },
  {
   "cell_type": "code",
   "execution_count": 219,
   "metadata": {},
   "outputs": [
    {
     "data": {
      "text/html": [
       "<div>\n",
       "<style scoped>\n",
       "    .dataframe tbody tr th:only-of-type {\n",
       "        vertical-align: middle;\n",
       "    }\n",
       "\n",
       "    .dataframe tbody tr th {\n",
       "        vertical-align: top;\n",
       "    }\n",
       "\n",
       "    .dataframe thead th {\n",
       "        text-align: right;\n",
       "    }\n",
       "</style>\n",
       "<table border=\"1\" class=\"dataframe\">\n",
       "  <thead>\n",
       "    <tr style=\"text-align: right;\">\n",
       "      <th></th>\n",
       "      <th>QuestionsInteresting</th>\n",
       "      <th>QuestionsConfusing</th>\n",
       "      <th>InterestedAnswers</th>\n",
       "      <th>Salary</th>\n",
       "      <th>ExpectedSalary</th>\n",
       "    </tr>\n",
       "  </thead>\n",
       "  <tbody>\n",
       "    <tr>\n",
       "      <th>0</th>\n",
       "      <td>Strongly agree</td>\n",
       "      <td>Disagree</td>\n",
       "      <td>Strongly agree</td>\n",
       "      <td>NaN</td>\n",
       "      <td>NaN</td>\n",
       "    </tr>\n",
       "    <tr>\n",
       "      <th>1</th>\n",
       "      <td>Somewhat agree</td>\n",
       "      <td>Disagree</td>\n",
       "      <td>Strongly agree</td>\n",
       "      <td>NaN</td>\n",
       "      <td>37500.0</td>\n",
       "    </tr>\n",
       "    <tr>\n",
       "      <th>2</th>\n",
       "      <td>Agree</td>\n",
       "      <td>Disagree</td>\n",
       "      <td>Agree</td>\n",
       "      <td>113750.0</td>\n",
       "      <td>NaN</td>\n",
       "    </tr>\n",
       "    <tr>\n",
       "      <th>3</th>\n",
       "      <td>Agree</td>\n",
       "      <td>Somewhat agree</td>\n",
       "      <td>Strongly agree</td>\n",
       "      <td>NaN</td>\n",
       "      <td>NaN</td>\n",
       "    </tr>\n",
       "    <tr>\n",
       "      <th>4</th>\n",
       "      <td>NaN</td>\n",
       "      <td>NaN</td>\n",
       "      <td>NaN</td>\n",
       "      <td>NaN</td>\n",
       "      <td>NaN</td>\n",
       "    </tr>\n",
       "  </tbody>\n",
       "</table>\n",
       "</div>"
      ],
      "text/plain": [
       "  QuestionsInteresting QuestionsConfusing InterestedAnswers    Salary  \\\n",
       "0       Strongly agree           Disagree    Strongly agree       NaN   \n",
       "1       Somewhat agree           Disagree    Strongly agree       NaN   \n",
       "2                Agree           Disagree             Agree  113750.0   \n",
       "3                Agree     Somewhat agree    Strongly agree       NaN   \n",
       "4                  NaN                NaN               NaN       NaN   \n",
       "\n",
       "   ExpectedSalary  \n",
       "0             NaN  \n",
       "1         37500.0  \n",
       "2             NaN  \n",
       "3             NaN  \n",
       "4             NaN  "
      ]
     },
     "execution_count": 219,
     "metadata": {},
     "output_type": "execute_result"
    }
   ],
   "source": [
    "df_answ.iloc[:5,149:154]"
   ]
  },
  {
   "cell_type": "code",
   "execution_count": 220,
   "metadata": {},
   "outputs": [
    {
     "data": {
      "text/plain": [
       "Somewhat agree       11257\n",
       "Disagree              8488\n",
       "Agree                 8061\n",
       "Strongly agree        5854\n",
       "Strongly disagree     1060\n",
       "Name: SurveyLong, dtype: int64"
      ]
     },
     "execution_count": 220,
     "metadata": {},
     "output_type": "execute_result"
    }
   ],
   "source": [
    "df_answ['SurveyLong'].value_counts()"
   ]
  },
  {
   "cell_type": "markdown",
   "metadata": {},
   "source": [
    "-  After analyzing all questions, I believe the questions below are insightful for my post."
   ]
  },
  {
   "cell_type": "code",
   "execution_count": 221,
   "metadata": {},
   "outputs": [
    {
     "data": {
      "text/plain": [
       "['8) How often do you work from home or remotely?',\n",
       " '9) In terms of the number of employees, how large is the company or organization you work for?',\n",
       " '11) How long has it been since you first learned how to program?',\n",
       " '12) For how many years have you coded as part of your job?',\n",
       " '13) For how many years did you code as part of your job?',\n",
       " '17) Which of the following describe you?',\n",
       " '18) Career satisfaction rating',\n",
       " \"20) You said before that you used to code as part of your job, but no longer do. To what extent do you agree or disagree with the following statements? If money weren't an issue, I would take a coding job again\",\n",
       " '23) You said before that you used to code as part of your job, but no longer do. To what extent do you agree or disagree with the following statements? My career is going the way I thought it would 10 years ago',\n",
       " \"25) You said before that you used to code as part of your job, but no longer do. To what extent do you agree or disagree with the following statements? I don't think my coding skills are up to date\",\n",
       " '29) I love solving problems',\n",
       " '43) I like to challenge myself',\n",
       " \"78) Congratulations! You've just been put in charge of technical recruiting at Globex, a multinational high- tech firm. This job comes with a corner office, and you have an experienced staff of recruiters at your disposal. They want to know what they should prioritize when recruiting software developers. How important should each of the following be in Globex's hiring process? Track record of getting things done\",\n",
       " '104) I enjoy debugging code',\n",
       " '129) Over the last three months, approximately how often have you done each of the following on Stack Overflow? Found an answer that solved my coding problem',\n",
       " '30) Building things is very rewarding',\n",
       " '31) Learning new technologies is fun',\n",
       " '32) I tend to get bored by implementation details',\n",
       " '34) Diversity in the workplace is important',\n",
       " \"61) When you're assessing potential jobs to apply to, how important are each of the following to you? The diversity of the company or organization\",\n",
       " \"38) Honestly, there's a lot about computers that I just don't understand\",\n",
       " '40) I invest a lot of time into the tools I use',\n",
       " \"41) I don't really care what I work on, so long as I'm paid well\",\n",
       " '46) Which of the following best describes your current job-seeking status?',\n",
       " \"58) When you're assessing potential jobs to apply to, how important are each of the following to you? The opportunity to work from home/remotely\",\n",
       " \"69) Congratulations! You've just been put in charge of technical recruiting at Globex, a multinational high- tech firm. This job comes with a corner office, and you have an experienced staff of recruiters at your disposal. They want to know what they should prioritize when recruiting software developers. How important should each of the following be in Globex's hiring process? Knowledge of algorithms and data structures\",\n",
       " \"70) Congratulations! You've just been put in charge of technical recruiting at Globex, a multinational high- tech firm. This job comes with a corner office, and you have an experienced staff of recruiters at your disposal. They want to know what they should prioritize when recruiting software developers. How important should each of the following be in Globex's hiring process? Experience with specific tools (libraries, frameworks, etc.) used by the employer\",\n",
       " \"71) Congratulations! You've just been put in charge of technical recruiting at Globex, a multinational high- tech firm. This job comes with a corner office, and you have an experienced staff of recruiters at your disposal. They want to know what they should prioritize when recruiting software developers. How important should each of the following be in Globex's hiring process? Communication skills\",\n",
       " '106) I have difficulty communicating my ideas to my peers',\n",
       " \"74) Congratulations! You've just been put in charge of technical recruiting at Globex, a multinational high- tech firm. This job comes with a corner office, and you have an experienced staff of recruiters at your disposal. They want to know what they should prioritize when recruiting software developers. How important should each of the following be in Globex's hiring process? Previous companies worked at\",\n",
       " \"75) Congratulations! You've just been put in charge of technical recruiting at Globex, a multinational high- tech firm. This job comes with a corner office, and you have an experienced staff of recruiters at your disposal. They want to know what they should prioritize when recruiting software developers. How important should each of the following be in Globex's hiring process? Previous job titles held\",\n",
       " \"76) Congratulations! You've just been put in charge of technical recruiting at Globex, a multinational high- tech firm. This job comes with a corner office, and you have an experienced staff of recruiters at your disposal. They want to know what they should prioritize when recruiting software developers. How important should each of the following be in Globex's hiring process? Educational credentials (e.g. schools attended, specific field of study, grades earned)\",\n",
       " '82) Overall, how important has your formal schooling and education been to your career success?',\n",
       " '83) Outside of your formal schooling and education, which of the following have you done?',\n",
       " '80) Compared to your estimate of your own market value, do you think you are…?',\n",
       " '88) Which of the following languages have you done extensive development work in over the past year, and which do you want to work in over the next year?',\n",
       " '152) What is your current annual base salary, before taxes, and excluding bonuses, grants, or other compensation?']"
      ]
     },
     "execution_count": 221,
     "metadata": {},
     "output_type": "execute_result"
    }
   ],
   "source": [
    "['8) '+ df_quest['Question'][8],\n",
    "'9) '+ df_quest['Question'][9],\n",
    "'11) '+ df_quest['Question'][11],\n",
    "'12) '+ df_quest['Question'][12],\n",
    "'13) '+ df_quest['Question'][13],\n",
    "'17) '+ df_quest['Question'][17],\n",
    "'18) '+ df_quest['Question'][18],\n",
    "'20) '+ df_quest['Question'][20],\n",
    "'23) '+ df_quest['Question'][23],\n",
    "'25) '+ df_quest['Question'][25],\n",
    "'29) '+ df_quest['Question'][29],\n",
    "'43) '+ df_quest['Question'][43],\n",
    "'78) '+ df_quest['Question'][78],\n",
    "'104) '+ df_quest['Question'][104],\n",
    "'129) '+ df_quest['Question'][129],\n",
    "'30) '+ df_quest['Question'][30],\n",
    "'31) '+ df_quest['Question'][31],\n",
    "'32) '+ df_quest['Question'][32],\n",
    "'34) '+ df_quest['Question'][34],\n",
    "'61) '+ df_quest['Question'][61],\n",
    "'38) '+ df_quest['Question'][38],\n",
    "'40) '+ df_quest['Question'][40],\n",
    "'41) '+ df_quest['Question'][41],\n",
    "'46) '+ df_quest['Question'][46],\n",
    "'58) '+ df_quest['Question'][58],\n",
    "'69) '+ df_quest['Question'][69],\n",
    "'70) '+ df_quest['Question'][70],\n",
    "'71) '+ df_quest['Question'][71],\n",
    "'106) '+ df_quest['Question'][106],\n",
    "'74) '+ df_quest['Question'][74],\n",
    "'75) '+ df_quest['Question'][75],\n",
    "'76) '+ df_quest['Question'][76],\n",
    "'82) '+ df_quest['Question'][82],\n",
    "'83) '+ df_quest['Question'][83],\n",
    "'80) '+ df_quest['Question'][80],\n",
    "'88) '+ df_quest['Question'][88],\n",
    "'152) '+ df_quest['Question'][152]]"
   ]
  },
  {
   "cell_type": "code",
   "execution_count": null,
   "metadata": {},
   "outputs": [],
   "source": []
  },
  {
   "cell_type": "markdown",
   "metadata": {},
   "source": [
    "### Chart #1 - Problem solving skills\n",
    "- A group of questions are related to 'problem solving' skills. This is a very interesting topic for my post, therefore I will explore those questions and prepare an appealing chart."
   ]
  },
  {
   "cell_type": "code",
   "execution_count": 222,
   "metadata": {},
   "outputs": [
    {
     "data": {
      "text/plain": [
       "(51392, 154)"
      ]
     },
     "execution_count": 222,
     "metadata": {},
     "output_type": "execute_result"
    }
   ],
   "source": [
    "df_answ.shape"
   ]
  },
  {
   "cell_type": "code",
   "execution_count": 223,
   "metadata": {},
   "outputs": [
    {
     "data": {
      "text/plain": [
       "Strongly agree       0.576487\n",
       "Agree                0.354201\n",
       "Somewhat agree       0.060397\n",
       "Disagree             0.005720\n",
       "Strongly disagree    0.003196\n",
       "Name: ProblemSolving, dtype: float64"
      ]
     },
     "execution_count": 223,
     "metadata": {},
     "output_type": "execute_result"
    }
   ],
   "source": [
    "df_answ.iloc[:,29].value_counts() / df_answ.iloc[:,29].count()"
   ]
  },
  {
   "cell_type": "code",
   "execution_count": 224,
   "metadata": {},
   "outputs": [
    {
     "data": {
      "text/plain": [
       "Agree                0.471150\n",
       "Strongly agree       0.383003\n",
       "Somewhat agree       0.124794\n",
       "Disagree             0.017016\n",
       "Strongly disagree    0.004036\n",
       "Name: ChallengeMyself, dtype: float64"
      ]
     },
     "execution_count": 224,
     "metadata": {},
     "output_type": "execute_result"
    }
   ],
   "source": [
    "df_answ.iloc[:,43].value_counts() / df_answ.iloc[:,43].count()"
   ]
  },
  {
   "cell_type": "code",
   "execution_count": 226,
   "metadata": {},
   "outputs": [
    {
     "data": {
      "text/plain": [
       "Somewhat agree       0.339829\n",
       "Agree                0.330522\n",
       "Disagree             0.179204\n",
       "Strongly agree       0.109659\n",
       "Strongly disagree    0.040786\n",
       "Name: EnjoyDebugging, dtype: float64"
      ]
     },
     "execution_count": 226,
     "metadata": {},
     "output_type": "execute_result"
    }
   ],
   "source": [
    "df_answ.iloc[:,104].value_counts() / df_answ.iloc[:,104].count()"
   ]
  },
  {
   "cell_type": "code",
   "execution_count": 225,
   "metadata": {},
   "outputs": [
    {
     "data": {
      "text/plain": [
       "Important               0.446768\n",
       "Very important          0.347592\n",
       "Somewhat important      0.164582\n",
       "Not very important      0.032825\n",
       "Not at all important    0.008233\n",
       "Name: ImportantHiringGettingThingsDone, dtype: float64"
      ]
     },
     "execution_count": 225,
     "metadata": {},
     "output_type": "execute_result"
    }
   ],
   "source": [
    "df_answ.iloc[:,78].value_counts() / df_answ.iloc[:,78].count()"
   ]
  },
  {
   "cell_type": "code",
   "execution_count": null,
   "metadata": {},
   "outputs": [],
   "source": []
  },
  {
   "cell_type": "code",
   "execution_count": 227,
   "metadata": {},
   "outputs": [
    {
     "data": {
      "text/html": [
       "<div>\n",
       "<style scoped>\n",
       "    .dataframe tbody tr th:only-of-type {\n",
       "        vertical-align: middle;\n",
       "    }\n",
       "\n",
       "    .dataframe tbody tr th {\n",
       "        vertical-align: top;\n",
       "    }\n",
       "\n",
       "    .dataframe thead th {\n",
       "        text-align: right;\n",
       "    }\n",
       "</style>\n",
       "<table border=\"1\" class=\"dataframe\">\n",
       "  <thead>\n",
       "    <tr style=\"text-align: right;\">\n",
       "      <th></th>\n",
       "      <th>ProblemSolving</th>\n",
       "      <th>ChallengeMyself</th>\n",
       "      <th>ImportantHiringGettingThingsDone</th>\n",
       "      <th>EnjoyDebugging</th>\n",
       "    </tr>\n",
       "  </thead>\n",
       "  <tbody>\n",
       "    <tr>\n",
       "      <th>0</th>\n",
       "      <td>Strongly agree</td>\n",
       "      <td>Agree</td>\n",
       "      <td>Very important</td>\n",
       "      <td>NaN</td>\n",
       "    </tr>\n",
       "    <tr>\n",
       "      <th>1</th>\n",
       "      <td>NaN</td>\n",
       "      <td>NaN</td>\n",
       "      <td>Very important</td>\n",
       "      <td>Agree</td>\n",
       "    </tr>\n",
       "    <tr>\n",
       "      <th>2</th>\n",
       "      <td>Strongly agree</td>\n",
       "      <td>Agree</td>\n",
       "      <td>NaN</td>\n",
       "      <td>Agree</td>\n",
       "    </tr>\n",
       "    <tr>\n",
       "      <th>3</th>\n",
       "      <td>Strongly agree</td>\n",
       "      <td>Strongly agree</td>\n",
       "      <td>Very important</td>\n",
       "      <td>Somewhat agree</td>\n",
       "    </tr>\n",
       "    <tr>\n",
       "      <th>4</th>\n",
       "      <td>NaN</td>\n",
       "      <td>NaN</td>\n",
       "      <td>NaN</td>\n",
       "      <td>NaN</td>\n",
       "    </tr>\n",
       "  </tbody>\n",
       "</table>\n",
       "</div>"
      ],
      "text/plain": [
       "   ProblemSolving ChallengeMyself ImportantHiringGettingThingsDone  \\\n",
       "0  Strongly agree           Agree                   Very important   \n",
       "1             NaN             NaN                   Very important   \n",
       "2  Strongly agree           Agree                              NaN   \n",
       "3  Strongly agree  Strongly agree                   Very important   \n",
       "4             NaN             NaN                              NaN   \n",
       "\n",
       "   EnjoyDebugging  \n",
       "0             NaN  \n",
       "1           Agree  \n",
       "2           Agree  \n",
       "3  Somewhat agree  \n",
       "4             NaN  "
      ]
     },
     "execution_count": 227,
     "metadata": {},
     "output_type": "execute_result"
    }
   ],
   "source": [
    "prob_solv_df = df_answ.iloc[:,[29,43,78,104]]\n",
    "prob_solv_df.head()"
   ]
  },
  {
   "cell_type": "markdown",
   "metadata": {},
   "source": [
    "- Considering the column 'ImportantHiringGettingThingsDone' have different concepts, but with similar meaning, I will create a new column with the same concepts of other columns"
   ]
  },
  {
   "cell_type": "code",
   "execution_count": 228,
   "metadata": {},
   "outputs": [
    {
     "name": "stderr",
     "output_type": "stream",
     "text": [
      "C:\\Users\\ROLD003\\anaconda3\\lib\\site-packages\\ipykernel_launcher.py:1: SettingWithCopyWarning: \n",
      "A value is trying to be set on a copy of a slice from a DataFrame.\n",
      "Try using .loc[row_indexer,col_indexer] = value instead\n",
      "\n",
      "See the caveats in the documentation: https://pandas.pydata.org/pandas-docs/stable/user_guide/indexing.html#returning-a-view-versus-a-copy\n",
      "  \"\"\"Entry point for launching an IPython kernel.\n"
     ]
    }
   ],
   "source": [
    "prob_solv_df['GettingThingsDone_new'] = prob_solv_df['ImportantHiringGettingThingsDone'].replace('Very important', 'Strongly agree').replace('Important', 'Agree').replace('Somewhat important', 'Somewhat agree').replace('Not very important', 'Disagree').replace('Not at all important', 'Strongly disagree')"
   ]
  },
  {
   "cell_type": "code",
   "execution_count": 229,
   "metadata": {},
   "outputs": [
    {
     "data": {
      "text/html": [
       "<div>\n",
       "<style scoped>\n",
       "    .dataframe tbody tr th:only-of-type {\n",
       "        vertical-align: middle;\n",
       "    }\n",
       "\n",
       "    .dataframe tbody tr th {\n",
       "        vertical-align: top;\n",
       "    }\n",
       "\n",
       "    .dataframe thead th {\n",
       "        text-align: right;\n",
       "    }\n",
       "</style>\n",
       "<table border=\"1\" class=\"dataframe\">\n",
       "  <thead>\n",
       "    <tr style=\"text-align: right;\">\n",
       "      <th></th>\n",
       "      <th>ProblemSolving</th>\n",
       "      <th>ChallengeMyself</th>\n",
       "      <th>ImportantHiringGettingThingsDone</th>\n",
       "      <th>EnjoyDebugging</th>\n",
       "      <th>GettingThingsDone_new</th>\n",
       "    </tr>\n",
       "  </thead>\n",
       "  <tbody>\n",
       "    <tr>\n",
       "      <th>0</th>\n",
       "      <td>Strongly agree</td>\n",
       "      <td>Agree</td>\n",
       "      <td>Very important</td>\n",
       "      <td>NaN</td>\n",
       "      <td>Strongly agree</td>\n",
       "    </tr>\n",
       "    <tr>\n",
       "      <th>1</th>\n",
       "      <td>NaN</td>\n",
       "      <td>NaN</td>\n",
       "      <td>Very important</td>\n",
       "      <td>Agree</td>\n",
       "      <td>Strongly agree</td>\n",
       "    </tr>\n",
       "    <tr>\n",
       "      <th>2</th>\n",
       "      <td>Strongly agree</td>\n",
       "      <td>Agree</td>\n",
       "      <td>NaN</td>\n",
       "      <td>Agree</td>\n",
       "      <td>NaN</td>\n",
       "    </tr>\n",
       "    <tr>\n",
       "      <th>3</th>\n",
       "      <td>Strongly agree</td>\n",
       "      <td>Strongly agree</td>\n",
       "      <td>Very important</td>\n",
       "      <td>Somewhat agree</td>\n",
       "      <td>Strongly agree</td>\n",
       "    </tr>\n",
       "    <tr>\n",
       "      <th>4</th>\n",
       "      <td>NaN</td>\n",
       "      <td>NaN</td>\n",
       "      <td>NaN</td>\n",
       "      <td>NaN</td>\n",
       "      <td>NaN</td>\n",
       "    </tr>\n",
       "  </tbody>\n",
       "</table>\n",
       "</div>"
      ],
      "text/plain": [
       "   ProblemSolving ChallengeMyself ImportantHiringGettingThingsDone  \\\n",
       "0  Strongly agree           Agree                   Very important   \n",
       "1             NaN             NaN                   Very important   \n",
       "2  Strongly agree           Agree                              NaN   \n",
       "3  Strongly agree  Strongly agree                   Very important   \n",
       "4             NaN             NaN                              NaN   \n",
       "\n",
       "   EnjoyDebugging GettingThingsDone_new  \n",
       "0             NaN        Strongly agree  \n",
       "1           Agree        Strongly agree  \n",
       "2           Agree                   NaN  \n",
       "3  Somewhat agree        Strongly agree  \n",
       "4             NaN                   NaN  "
      ]
     },
     "execution_count": 229,
     "metadata": {},
     "output_type": "execute_result"
    }
   ],
   "source": [
    "prob_solv_df.head()"
   ]
  },
  {
   "cell_type": "code",
   "execution_count": 230,
   "metadata": {},
   "outputs": [
    {
     "data": {
      "text/html": [
       "<div>\n",
       "<style scoped>\n",
       "    .dataframe tbody tr th:only-of-type {\n",
       "        vertical-align: middle;\n",
       "    }\n",
       "\n",
       "    .dataframe tbody tr th {\n",
       "        vertical-align: top;\n",
       "    }\n",
       "\n",
       "    .dataframe thead th {\n",
       "        text-align: right;\n",
       "    }\n",
       "</style>\n",
       "<table border=\"1\" class=\"dataframe\">\n",
       "  <thead>\n",
       "    <tr style=\"text-align: right;\">\n",
       "      <th></th>\n",
       "      <th>ProblemSolving</th>\n",
       "      <th>ChallengeMyself</th>\n",
       "      <th>EnjoyDebugging</th>\n",
       "      <th>GettingThingsDone_new</th>\n",
       "    </tr>\n",
       "  </thead>\n",
       "  <tbody>\n",
       "    <tr>\n",
       "      <th>0</th>\n",
       "      <td>Strongly agree</td>\n",
       "      <td>Agree</td>\n",
       "      <td>NaN</td>\n",
       "      <td>Strongly agree</td>\n",
       "    </tr>\n",
       "    <tr>\n",
       "      <th>1</th>\n",
       "      <td>NaN</td>\n",
       "      <td>NaN</td>\n",
       "      <td>Agree</td>\n",
       "      <td>Strongly agree</td>\n",
       "    </tr>\n",
       "    <tr>\n",
       "      <th>2</th>\n",
       "      <td>Strongly agree</td>\n",
       "      <td>Agree</td>\n",
       "      <td>Agree</td>\n",
       "      <td>NaN</td>\n",
       "    </tr>\n",
       "    <tr>\n",
       "      <th>3</th>\n",
       "      <td>Strongly agree</td>\n",
       "      <td>Strongly agree</td>\n",
       "      <td>Somewhat agree</td>\n",
       "      <td>Strongly agree</td>\n",
       "    </tr>\n",
       "    <tr>\n",
       "      <th>4</th>\n",
       "      <td>NaN</td>\n",
       "      <td>NaN</td>\n",
       "      <td>NaN</td>\n",
       "      <td>NaN</td>\n",
       "    </tr>\n",
       "  </tbody>\n",
       "</table>\n",
       "</div>"
      ],
      "text/plain": [
       "   ProblemSolving ChallengeMyself  EnjoyDebugging GettingThingsDone_new\n",
       "0  Strongly agree           Agree             NaN        Strongly agree\n",
       "1             NaN             NaN           Agree        Strongly agree\n",
       "2  Strongly agree           Agree           Agree                   NaN\n",
       "3  Strongly agree  Strongly agree  Somewhat agree        Strongly agree\n",
       "4             NaN             NaN             NaN                   NaN"
      ]
     },
     "execution_count": 230,
     "metadata": {},
     "output_type": "execute_result"
    }
   ],
   "source": [
    "prob_solv_df = prob_solv_df.drop(['ImportantHiringGettingThingsDone'], axis=1)\n",
    "prob_solv_df.head()"
   ]
  },
  {
   "cell_type": "markdown",
   "metadata": {},
   "source": [
    "- I will create the scale of the concepts to use in the bar chart"
   ]
  },
  {
   "cell_type": "code",
   "execution_count": 231,
   "metadata": {},
   "outputs": [],
   "source": [
    "agr_scale = ['Strongly agree', 'Agree', 'Somewhat agree', 'Disagree', 'Strongly disagree']\n",
    "agr_classes = pd.api.types.CategoricalDtype(ordered=True, categories=agr_scale)\n",
    "\n",
    "prob_solv_df.iloc[:,:] = prob_solv_df.iloc[:,:].astype(agr_classes)"
   ]
  },
  {
   "cell_type": "code",
   "execution_count": 232,
   "metadata": {},
   "outputs": [
    {
     "data": {
      "text/html": [
       "<div>\n",
       "<style scoped>\n",
       "    .dataframe tbody tr th:only-of-type {\n",
       "        vertical-align: middle;\n",
       "    }\n",
       "\n",
       "    .dataframe tbody tr th {\n",
       "        vertical-align: top;\n",
       "    }\n",
       "\n",
       "    .dataframe thead th {\n",
       "        text-align: right;\n",
       "    }\n",
       "</style>\n",
       "<table border=\"1\" class=\"dataframe\">\n",
       "  <thead>\n",
       "    <tr style=\"text-align: right;\">\n",
       "      <th></th>\n",
       "      <th>ProblemSolving</th>\n",
       "      <th>ChallengeMyself</th>\n",
       "      <th>EnjoyDebugging</th>\n",
       "      <th>GettingThingsDone_new</th>\n",
       "    </tr>\n",
       "  </thead>\n",
       "  <tbody>\n",
       "    <tr>\n",
       "      <th>0</th>\n",
       "      <td>Strongly agree</td>\n",
       "      <td>Agree</td>\n",
       "      <td>NaN</td>\n",
       "      <td>Strongly agree</td>\n",
       "    </tr>\n",
       "    <tr>\n",
       "      <th>1</th>\n",
       "      <td>NaN</td>\n",
       "      <td>NaN</td>\n",
       "      <td>Agree</td>\n",
       "      <td>Strongly agree</td>\n",
       "    </tr>\n",
       "    <tr>\n",
       "      <th>2</th>\n",
       "      <td>Strongly agree</td>\n",
       "      <td>Agree</td>\n",
       "      <td>Agree</td>\n",
       "      <td>NaN</td>\n",
       "    </tr>\n",
       "    <tr>\n",
       "      <th>3</th>\n",
       "      <td>Strongly agree</td>\n",
       "      <td>Strongly agree</td>\n",
       "      <td>Somewhat agree</td>\n",
       "      <td>Strongly agree</td>\n",
       "    </tr>\n",
       "    <tr>\n",
       "      <th>4</th>\n",
       "      <td>NaN</td>\n",
       "      <td>NaN</td>\n",
       "      <td>NaN</td>\n",
       "      <td>NaN</td>\n",
       "    </tr>\n",
       "  </tbody>\n",
       "</table>\n",
       "</div>"
      ],
      "text/plain": [
       "   ProblemSolving ChallengeMyself  EnjoyDebugging GettingThingsDone_new\n",
       "0  Strongly agree           Agree             NaN        Strongly agree\n",
       "1             NaN             NaN           Agree        Strongly agree\n",
       "2  Strongly agree           Agree           Agree                   NaN\n",
       "3  Strongly agree  Strongly agree  Somewhat agree        Strongly agree\n",
       "4             NaN             NaN             NaN                   NaN"
      ]
     },
     "execution_count": 232,
     "metadata": {},
     "output_type": "execute_result"
    }
   ],
   "source": [
    "prob_solv_df.head()"
   ]
  },
  {
   "cell_type": "code",
   "execution_count": null,
   "metadata": {},
   "outputs": [],
   "source": []
  },
  {
   "cell_type": "markdown",
   "metadata": {},
   "source": [
    "- I will create a new DataFrame to see the answers of each question by group (in % total of the column)"
   ]
  },
  {
   "cell_type": "code",
   "execution_count": 257,
   "metadata": {
    "scrolled": true
   },
   "outputs": [
    {
     "data": {
      "text/html": [
       "<div>\n",
       "<style scoped>\n",
       "    .dataframe tbody tr th:only-of-type {\n",
       "        vertical-align: middle;\n",
       "    }\n",
       "\n",
       "    .dataframe tbody tr th {\n",
       "        vertical-align: top;\n",
       "    }\n",
       "\n",
       "    .dataframe thead th {\n",
       "        text-align: right;\n",
       "    }\n",
       "</style>\n",
       "<table border=\"1\" class=\"dataframe\">\n",
       "  <thead>\n",
       "    <tr style=\"text-align: right;\">\n",
       "      <th></th>\n",
       "      <th>index</th>\n",
       "      <th>ProblemSolving</th>\n",
       "    </tr>\n",
       "  </thead>\n",
       "  <tbody>\n",
       "    <tr>\n",
       "      <th>0</th>\n",
       "      <td>Strongly agree</td>\n",
       "      <td>0.576487</td>\n",
       "    </tr>\n",
       "    <tr>\n",
       "      <th>1</th>\n",
       "      <td>Agree</td>\n",
       "      <td>0.354201</td>\n",
       "    </tr>\n",
       "    <tr>\n",
       "      <th>2</th>\n",
       "      <td>Somewhat agree</td>\n",
       "      <td>0.060397</td>\n",
       "    </tr>\n",
       "    <tr>\n",
       "      <th>3</th>\n",
       "      <td>Disagree</td>\n",
       "      <td>0.005720</td>\n",
       "    </tr>\n",
       "    <tr>\n",
       "      <th>4</th>\n",
       "      <td>Strongly disagree</td>\n",
       "      <td>0.003196</td>\n",
       "    </tr>\n",
       "  </tbody>\n",
       "</table>\n",
       "</div>"
      ],
      "text/plain": [
       "               index  ProblemSolving\n",
       "0     Strongly agree        0.576487\n",
       "1              Agree        0.354201\n",
       "2     Somewhat agree        0.060397\n",
       "3           Disagree        0.005720\n",
       "4  Strongly disagree        0.003196"
      ]
     },
     "execution_count": 257,
     "metadata": {},
     "output_type": "execute_result"
    }
   ],
   "source": [
    "PS = prob_solv_df['ProblemSolving'].value_counts() / prob_solv_df['ProblemSolving'].count()\n",
    "PS = pd.DataFrame(data=PS, columns=['ProblemSolving']).reset_index()\n",
    "PS"
   ]
  },
  {
   "cell_type": "code",
   "execution_count": 256,
   "metadata": {},
   "outputs": [
    {
     "data": {
      "text/html": [
       "<div>\n",
       "<style scoped>\n",
       "    .dataframe tbody tr th:only-of-type {\n",
       "        vertical-align: middle;\n",
       "    }\n",
       "\n",
       "    .dataframe tbody tr th {\n",
       "        vertical-align: top;\n",
       "    }\n",
       "\n",
       "    .dataframe thead th {\n",
       "        text-align: right;\n",
       "    }\n",
       "</style>\n",
       "<table border=\"1\" class=\"dataframe\">\n",
       "  <thead>\n",
       "    <tr style=\"text-align: right;\">\n",
       "      <th></th>\n",
       "      <th>index</th>\n",
       "      <th>ChallengeMyself</th>\n",
       "    </tr>\n",
       "  </thead>\n",
       "  <tbody>\n",
       "    <tr>\n",
       "      <th>0</th>\n",
       "      <td>Agree</td>\n",
       "      <td>0.471150</td>\n",
       "    </tr>\n",
       "    <tr>\n",
       "      <th>1</th>\n",
       "      <td>Strongly agree</td>\n",
       "      <td>0.383003</td>\n",
       "    </tr>\n",
       "    <tr>\n",
       "      <th>2</th>\n",
       "      <td>Somewhat agree</td>\n",
       "      <td>0.124794</td>\n",
       "    </tr>\n",
       "    <tr>\n",
       "      <th>3</th>\n",
       "      <td>Disagree</td>\n",
       "      <td>0.017016</td>\n",
       "    </tr>\n",
       "    <tr>\n",
       "      <th>4</th>\n",
       "      <td>Strongly disagree</td>\n",
       "      <td>0.004036</td>\n",
       "    </tr>\n",
       "  </tbody>\n",
       "</table>\n",
       "</div>"
      ],
      "text/plain": [
       "               index  ChallengeMyself\n",
       "0              Agree         0.471150\n",
       "1     Strongly agree         0.383003\n",
       "2     Somewhat agree         0.124794\n",
       "3           Disagree         0.017016\n",
       "4  Strongly disagree         0.004036"
      ]
     },
     "execution_count": 256,
     "metadata": {},
     "output_type": "execute_result"
    }
   ],
   "source": [
    "CM = prob_solv_df['ChallengeMyself'].value_counts() / prob_solv_df['ChallengeMyself'].count()\n",
    "CM = pd.DataFrame(data=CM, columns=['ChallengeMyself']).reset_index()\n",
    "CM"
   ]
  },
  {
   "cell_type": "code",
   "execution_count": 255,
   "metadata": {},
   "outputs": [
    {
     "data": {
      "text/html": [
       "<div>\n",
       "<style scoped>\n",
       "    .dataframe tbody tr th:only-of-type {\n",
       "        vertical-align: middle;\n",
       "    }\n",
       "\n",
       "    .dataframe tbody tr th {\n",
       "        vertical-align: top;\n",
       "    }\n",
       "\n",
       "    .dataframe thead th {\n",
       "        text-align: right;\n",
       "    }\n",
       "</style>\n",
       "<table border=\"1\" class=\"dataframe\">\n",
       "  <thead>\n",
       "    <tr style=\"text-align: right;\">\n",
       "      <th></th>\n",
       "      <th>index</th>\n",
       "      <th>EnjoyDebugging</th>\n",
       "    </tr>\n",
       "  </thead>\n",
       "  <tbody>\n",
       "    <tr>\n",
       "      <th>0</th>\n",
       "      <td>Somewhat agree</td>\n",
       "      <td>0.339829</td>\n",
       "    </tr>\n",
       "    <tr>\n",
       "      <th>1</th>\n",
       "      <td>Agree</td>\n",
       "      <td>0.330522</td>\n",
       "    </tr>\n",
       "    <tr>\n",
       "      <th>2</th>\n",
       "      <td>Disagree</td>\n",
       "      <td>0.179204</td>\n",
       "    </tr>\n",
       "    <tr>\n",
       "      <th>3</th>\n",
       "      <td>Strongly agree</td>\n",
       "      <td>0.109659</td>\n",
       "    </tr>\n",
       "    <tr>\n",
       "      <th>4</th>\n",
       "      <td>Strongly disagree</td>\n",
       "      <td>0.040786</td>\n",
       "    </tr>\n",
       "  </tbody>\n",
       "</table>\n",
       "</div>"
      ],
      "text/plain": [
       "               index  EnjoyDebugging\n",
       "0     Somewhat agree        0.339829\n",
       "1              Agree        0.330522\n",
       "2           Disagree        0.179204\n",
       "3     Strongly agree        0.109659\n",
       "4  Strongly disagree        0.040786"
      ]
     },
     "execution_count": 255,
     "metadata": {},
     "output_type": "execute_result"
    }
   ],
   "source": [
    "ED = prob_solv_df['EnjoyDebugging'].value_counts() / prob_solv_df['EnjoyDebugging'].count()\n",
    "ED = pd.DataFrame(data=ED, columns=['EnjoyDebugging']).reset_index()\n",
    "ED"
   ]
  },
  {
   "cell_type": "code",
   "execution_count": 265,
   "metadata": {},
   "outputs": [
    {
     "data": {
      "text/html": [
       "<div>\n",
       "<style scoped>\n",
       "    .dataframe tbody tr th:only-of-type {\n",
       "        vertical-align: middle;\n",
       "    }\n",
       "\n",
       "    .dataframe tbody tr th {\n",
       "        vertical-align: top;\n",
       "    }\n",
       "\n",
       "    .dataframe thead th {\n",
       "        text-align: right;\n",
       "    }\n",
       "</style>\n",
       "<table border=\"1\" class=\"dataframe\">\n",
       "  <thead>\n",
       "    <tr style=\"text-align: right;\">\n",
       "      <th></th>\n",
       "      <th>index</th>\n",
       "      <th>GettingThingsDone</th>\n",
       "    </tr>\n",
       "  </thead>\n",
       "  <tbody>\n",
       "    <tr>\n",
       "      <th>0</th>\n",
       "      <td>Agree</td>\n",
       "      <td>0.446768</td>\n",
       "    </tr>\n",
       "    <tr>\n",
       "      <th>1</th>\n",
       "      <td>Strongly agree</td>\n",
       "      <td>0.347592</td>\n",
       "    </tr>\n",
       "    <tr>\n",
       "      <th>2</th>\n",
       "      <td>Somewhat agree</td>\n",
       "      <td>0.164582</td>\n",
       "    </tr>\n",
       "    <tr>\n",
       "      <th>3</th>\n",
       "      <td>Disagree</td>\n",
       "      <td>0.032825</td>\n",
       "    </tr>\n",
       "    <tr>\n",
       "      <th>4</th>\n",
       "      <td>Strongly disagree</td>\n",
       "      <td>0.008233</td>\n",
       "    </tr>\n",
       "  </tbody>\n",
       "</table>\n",
       "</div>"
      ],
      "text/plain": [
       "               index  GettingThingsDone\n",
       "0              Agree           0.446768\n",
       "1     Strongly agree           0.347592\n",
       "2     Somewhat agree           0.164582\n",
       "3           Disagree           0.032825\n",
       "4  Strongly disagree           0.008233"
      ]
     },
     "execution_count": 265,
     "metadata": {},
     "output_type": "execute_result"
    }
   ],
   "source": [
    "GTD = prob_solv_df['GettingThingsDone_new'].value_counts() / prob_solv_df['GettingThingsDone_new'].count()\n",
    "GTD = pd.DataFrame(data=GTD, columns=['GettingThingsDone_new']).reset_index()\n",
    "GTD = GTD.rename(columns={'GettingThingsDone_new': 'GettingThingsDone'})\n",
    "GTD"
   ]
  },
  {
   "cell_type": "code",
   "execution_count": 274,
   "metadata": {},
   "outputs": [
    {
     "data": {
      "text/html": [
       "<div>\n",
       "<style scoped>\n",
       "    .dataframe tbody tr th:only-of-type {\n",
       "        vertical-align: middle;\n",
       "    }\n",
       "\n",
       "    .dataframe tbody tr th {\n",
       "        vertical-align: top;\n",
       "    }\n",
       "\n",
       "    .dataframe thead th {\n",
       "        text-align: right;\n",
       "    }\n",
       "</style>\n",
       "<table border=\"1\" class=\"dataframe\">\n",
       "  <thead>\n",
       "    <tr style=\"text-align: right;\">\n",
       "      <th></th>\n",
       "      <th>index</th>\n",
       "      <th>ProblemSolving</th>\n",
       "      <th>ChallengeMyself</th>\n",
       "      <th>EnjoyDebugging</th>\n",
       "      <th>GettingThingsDone</th>\n",
       "    </tr>\n",
       "  </thead>\n",
       "  <tbody>\n",
       "    <tr>\n",
       "      <th>0</th>\n",
       "      <td>Strongly agree</td>\n",
       "      <td>0.576487</td>\n",
       "      <td>0.383003</td>\n",
       "      <td>0.109659</td>\n",
       "      <td>0.347592</td>\n",
       "    </tr>\n",
       "    <tr>\n",
       "      <th>1</th>\n",
       "      <td>Agree</td>\n",
       "      <td>0.354201</td>\n",
       "      <td>0.471150</td>\n",
       "      <td>0.330522</td>\n",
       "      <td>0.446768</td>\n",
       "    </tr>\n",
       "    <tr>\n",
       "      <th>2</th>\n",
       "      <td>Somewhat agree</td>\n",
       "      <td>0.060397</td>\n",
       "      <td>0.124794</td>\n",
       "      <td>0.339829</td>\n",
       "      <td>0.164582</td>\n",
       "    </tr>\n",
       "    <tr>\n",
       "      <th>3</th>\n",
       "      <td>Disagree</td>\n",
       "      <td>0.005720</td>\n",
       "      <td>0.017016</td>\n",
       "      <td>0.179204</td>\n",
       "      <td>0.032825</td>\n",
       "    </tr>\n",
       "    <tr>\n",
       "      <th>4</th>\n",
       "      <td>Strongly disagree</td>\n",
       "      <td>0.003196</td>\n",
       "      <td>0.004036</td>\n",
       "      <td>0.040786</td>\n",
       "      <td>0.008233</td>\n",
       "    </tr>\n",
       "  </tbody>\n",
       "</table>\n",
       "</div>"
      ],
      "text/plain": [
       "               index  ProblemSolving  ChallengeMyself  EnjoyDebugging  \\\n",
       "0     Strongly agree        0.576487         0.383003        0.109659   \n",
       "1              Agree        0.354201         0.471150        0.330522   \n",
       "2     Somewhat agree        0.060397         0.124794        0.339829   \n",
       "3           Disagree        0.005720         0.017016        0.179204   \n",
       "4  Strongly disagree        0.003196         0.004036        0.040786   \n",
       "\n",
       "   GettingThingsDone  \n",
       "0           0.347592  \n",
       "1           0.446768  \n",
       "2           0.164582  \n",
       "3           0.032825  \n",
       "4           0.008233  "
      ]
     },
     "execution_count": 274,
     "metadata": {},
     "output_type": "execute_result"
    }
   ],
   "source": [
    "prob_solv_perc_df = PS.merge(CM, how='left').merge(ED, how='left').merge(GTD, how='left')\n",
    "prob_solv_perc_df"
   ]
  },
  {
   "cell_type": "markdown",
   "metadata": {},
   "source": [
    "- I will create a bar chart to support my arguments that 'problem solving' skills are important to learn coding"
   ]
  },
  {
   "cell_type": "code",
   "execution_count": 372,
   "metadata": {},
   "outputs": [
    {
     "data": {
      "image/png": "[encoded data removed]",
      "text/plain": [
       "<Figure size 936x432 with 1 Axes>"
      ]
     },
     "metadata": {
      "needs_background": "light"
     },
     "output_type": "display_data"
    }
   ],
   "source": [
    "prob_solv_perc_df.plot(x='index', y=['ProblemSolving', 'ChallengeMyself', 'GettingThingsDone', 'EnjoyDebugging'], kind=\"bar\", color=['black', 'grey', 'silver', 'lightsteelblue'], figsize=[13,6]);\n",
    "plt.xticks(rotation=0, size=15);\n",
    "yticks = [0, 0.1, 0.2, 0.3, 0.4, 0.5, 0.6]\n",
    "yticks_new = ['0%', '10%', '20%', '30%', '40%', '50%', '60%']\n",
    "plt.yticks(yticks, yticks_new, size=15);\n",
    "plt.xlabel('');\n",
    "plt.ylabel('% total by question', size=15);\n",
    "plt.legend(fontsize=15);"
   ]
  },
  {
   "cell_type": "code",
   "execution_count": null,
   "metadata": {},
   "outputs": [],
   "source": []
  },
  {
   "cell_type": "markdown",
   "metadata": {},
   "source": [
    "### Chart #2 - Communication skills\n",
    "- 2 questions raised the importance of communication skills. I decided to include this topic in my post."
   ]
  },
  {
   "cell_type": "code",
   "execution_count": 385,
   "metadata": {},
   "outputs": [
    {
     "data": {
      "text/plain": [
       "[\"71) Congratulations! You've just been put in charge of technical recruiting at Globex, a multinational high- tech firm. This job comes with a corner office, and you have an experienced staff of recruiters at your disposal. They want to know what they should prioritize when recruiting software developers. How important should each of the following be in Globex's hiring process? Communication skills\",\n",
       " '106) I have difficulty communicating my ideas to my peers']"
      ]
     },
     "execution_count": 385,
     "metadata": {},
     "output_type": "execute_result"
    }
   ],
   "source": [
    "['71) '+ df_quest['Question'][71],\n",
    "'106) '+ df_quest['Question'][106]]"
   ]
  },
  {
   "cell_type": "code",
   "execution_count": 387,
   "metadata": {},
   "outputs": [
    {
     "data": {
      "text/html": [
       "<div>\n",
       "<style scoped>\n",
       "    .dataframe tbody tr th:only-of-type {\n",
       "        vertical-align: middle;\n",
       "    }\n",
       "\n",
       "    .dataframe tbody tr th {\n",
       "        vertical-align: top;\n",
       "    }\n",
       "\n",
       "    .dataframe thead th {\n",
       "        text-align: right;\n",
       "    }\n",
       "</style>\n",
       "<table border=\"1\" class=\"dataframe\">\n",
       "  <thead>\n",
       "    <tr style=\"text-align: right;\">\n",
       "      <th></th>\n",
       "      <th>scale</th>\n",
       "      <th>ImportantHiringCommunication</th>\n",
       "    </tr>\n",
       "  </thead>\n",
       "  <tbody>\n",
       "    <tr>\n",
       "      <th>0</th>\n",
       "      <td>Important</td>\n",
       "      <td>0.458675</td>\n",
       "    </tr>\n",
       "    <tr>\n",
       "      <th>1</th>\n",
       "      <td>Very important</td>\n",
       "      <td>0.341318</td>\n",
       "    </tr>\n",
       "    <tr>\n",
       "      <th>2</th>\n",
       "      <td>Somewhat important</td>\n",
       "      <td>0.165858</td>\n",
       "    </tr>\n",
       "    <tr>\n",
       "      <th>3</th>\n",
       "      <td>Not very important</td>\n",
       "      <td>0.028981</td>\n",
       "    </tr>\n",
       "    <tr>\n",
       "      <th>4</th>\n",
       "      <td>Not at all important</td>\n",
       "      <td>0.005168</td>\n",
       "    </tr>\n",
       "  </tbody>\n",
       "</table>\n",
       "</div>"
      ],
      "text/plain": [
       "                  scale  ImportantHiringCommunication\n",
       "0             Important                      0.458675\n",
       "1        Very important                      0.341318\n",
       "2    Somewhat important                      0.165858\n",
       "3    Not very important                      0.028981\n",
       "4  Not at all important                      0.005168"
      ]
     },
     "execution_count": 387,
     "metadata": {},
     "output_type": "execute_result"
    }
   ],
   "source": [
    "com_hir = df_answ.iloc[:,71].value_counts() / df_answ.iloc[:,71].count()\n",
    "com_hir = pd.DataFrame(com_hir).reset_index().rename(columns={'index': 'scale'})\n",
    "com_hir"
   ]
  },
  {
   "cell_type": "code",
   "execution_count": 616,
   "metadata": {},
   "outputs": [
    {
     "data": {
      "text/html": [
       "<div>\n",
       "<style scoped>\n",
       "    .dataframe tbody tr th:only-of-type {\n",
       "        vertical-align: middle;\n",
       "    }\n",
       "\n",
       "    .dataframe tbody tr th {\n",
       "        vertical-align: top;\n",
       "    }\n",
       "\n",
       "    .dataframe thead th {\n",
       "        text-align: right;\n",
       "    }\n",
       "</style>\n",
       "<table border=\"1\" class=\"dataframe\">\n",
       "  <thead>\n",
       "    <tr style=\"text-align: right;\">\n",
       "      <th></th>\n",
       "      <th>scale</th>\n",
       "      <th>ImportantHiringCommunication</th>\n",
       "    </tr>\n",
       "  </thead>\n",
       "  <tbody>\n",
       "    <tr>\n",
       "      <th>1</th>\n",
       "      <td>Very important</td>\n",
       "      <td>0.341318</td>\n",
       "    </tr>\n",
       "    <tr>\n",
       "      <th>0</th>\n",
       "      <td>Important</td>\n",
       "      <td>0.458675</td>\n",
       "    </tr>\n",
       "    <tr>\n",
       "      <th>2</th>\n",
       "      <td>Somewhat important</td>\n",
       "      <td>0.165858</td>\n",
       "    </tr>\n",
       "    <tr>\n",
       "      <th>3</th>\n",
       "      <td>Not very important</td>\n",
       "      <td>0.028981</td>\n",
       "    </tr>\n",
       "    <tr>\n",
       "      <th>4</th>\n",
       "      <td>Not at all important</td>\n",
       "      <td>0.005168</td>\n",
       "    </tr>\n",
       "  </tbody>\n",
       "</table>\n",
       "</div>"
      ],
      "text/plain": [
       "                  scale  ImportantHiringCommunication\n",
       "1        Very important                      0.341318\n",
       "0             Important                      0.458675\n",
       "2    Somewhat important                      0.165858\n",
       "3    Not very important                      0.028981\n",
       "4  Not at all important                      0.005168"
      ]
     },
     "execution_count": 616,
     "metadata": {},
     "output_type": "execute_result"
    }
   ],
   "source": [
    "agr_scale2 = ['Very important', 'Important', 'Somewhat important', 'Not very important', 'Not at all important']\n",
    "agr_classes2 = pd.api.types.CategoricalDtype(ordered=True, categories=agr_scale2)\n",
    "com_hir['scale'] = com_hir['scale'].astype(agr_classes2)\n",
    "\n",
    "com_hir = com_hir.sort_values('scale')\n",
    "com_hir"
   ]
  },
  {
   "cell_type": "code",
   "execution_count": 620,
   "metadata": {},
   "outputs": [
    {
     "data": {
      "image/png": "[encoded data removed]",
      "text/plain": [
       "<Figure size 864x432 with 1 Axes>"
      ]
     },
     "metadata": {
      "needs_background": "light"
     },
     "output_type": "display_data"
    }
   ],
   "source": [
    "scale = com_hir['scale']\n",
    "hiring = com_hir['ImportantHiringCommunication']\n",
    "fig, ax = plt.subplots(figsize =(12, 6))\n",
    "ax.bar(scale, hiring, color='black')\n",
    "for i in ax.patches: \n",
    "    height = i.get_height() + 0.01\n",
    "    plt.text(i.get_x() + i.get_width() - 0.54, 1.01*height,\n",
    "                '{:0.1f}%'.format(100*height), fontsize=15) \n",
    "\n",
    "ax.spines['top'].set_visible(False)\n",
    "ax.spines['right'].set_visible(False)\n",
    "ax.spines['left'].set_visible(False)\n",
    "plt.xticks(fontsize=13, rotation=10)\n",
    "plt.yticks([]);\n",
    "plt.title('How important are communication skills in the hiring process?', fontsize=15, y=1.08);"
   ]
  },
  {
   "cell_type": "code",
   "execution_count": null,
   "metadata": {},
   "outputs": [],
   "source": []
  },
  {
   "cell_type": "code",
   "execution_count": 391,
   "metadata": {},
   "outputs": [
    {
     "data": {
      "text/html": [
       "<div>\n",
       "<style scoped>\n",
       "    .dataframe tbody tr th:only-of-type {\n",
       "        vertical-align: middle;\n",
       "    }\n",
       "\n",
       "    .dataframe tbody tr th {\n",
       "        vertical-align: top;\n",
       "    }\n",
       "\n",
       "    .dataframe thead th {\n",
       "        text-align: right;\n",
       "    }\n",
       "</style>\n",
       "<table border=\"1\" class=\"dataframe\">\n",
       "  <thead>\n",
       "    <tr style=\"text-align: right;\">\n",
       "      <th></th>\n",
       "      <th>scale</th>\n",
       "      <th>DifficultCommunication</th>\n",
       "    </tr>\n",
       "  </thead>\n",
       "  <tbody>\n",
       "    <tr>\n",
       "      <th>0</th>\n",
       "      <td>Disagree</td>\n",
       "      <td>0.498819</td>\n",
       "    </tr>\n",
       "    <tr>\n",
       "      <th>1</th>\n",
       "      <td>Somewhat agree</td>\n",
       "      <td>0.215587</td>\n",
       "    </tr>\n",
       "    <tr>\n",
       "      <th>2</th>\n",
       "      <td>Strongly disagree</td>\n",
       "      <td>0.178475</td>\n",
       "    </tr>\n",
       "    <tr>\n",
       "      <th>3</th>\n",
       "      <td>Agree</td>\n",
       "      <td>0.085796</td>\n",
       "    </tr>\n",
       "    <tr>\n",
       "      <th>4</th>\n",
       "      <td>Strongly agree</td>\n",
       "      <td>0.021323</td>\n",
       "    </tr>\n",
       "  </tbody>\n",
       "</table>\n",
       "</div>"
      ],
      "text/plain": [
       "               scale  DifficultCommunication\n",
       "0           Disagree                0.498819\n",
       "1     Somewhat agree                0.215587\n",
       "2  Strongly disagree                0.178475\n",
       "3              Agree                0.085796\n",
       "4     Strongly agree                0.021323"
      ]
     },
     "execution_count": 391,
     "metadata": {},
     "output_type": "execute_result"
    }
   ],
   "source": [
    "com_diff = df_answ.iloc[:,106].value_counts() / df_answ.iloc[:,106].count()\n",
    "com_diff = pd.DataFrame(com_diff).reset_index().rename(columns={'index': 'scale'})\n",
    "com_diff"
   ]
  },
  {
   "cell_type": "code",
   "execution_count": 464,
   "metadata": {},
   "outputs": [
    {
     "data": {
      "text/html": [
       "<div>\n",
       "<style scoped>\n",
       "    .dataframe tbody tr th:only-of-type {\n",
       "        vertical-align: middle;\n",
       "    }\n",
       "\n",
       "    .dataframe tbody tr th {\n",
       "        vertical-align: top;\n",
       "    }\n",
       "\n",
       "    .dataframe thead th {\n",
       "        text-align: right;\n",
       "    }\n",
       "</style>\n",
       "<table border=\"1\" class=\"dataframe\">\n",
       "  <thead>\n",
       "    <tr style=\"text-align: right;\">\n",
       "      <th></th>\n",
       "      <th>scale</th>\n",
       "      <th>DifficultCommunication</th>\n",
       "    </tr>\n",
       "  </thead>\n",
       "  <tbody>\n",
       "    <tr>\n",
       "      <th>4</th>\n",
       "      <td>Strongly agree</td>\n",
       "      <td>0.021323</td>\n",
       "    </tr>\n",
       "    <tr>\n",
       "      <th>3</th>\n",
       "      <td>Agree</td>\n",
       "      <td>0.085796</td>\n",
       "    </tr>\n",
       "    <tr>\n",
       "      <th>1</th>\n",
       "      <td>Somewhat agree</td>\n",
       "      <td>0.215587</td>\n",
       "    </tr>\n",
       "    <tr>\n",
       "      <th>0</th>\n",
       "      <td>Disagree</td>\n",
       "      <td>0.498819</td>\n",
       "    </tr>\n",
       "    <tr>\n",
       "      <th>2</th>\n",
       "      <td>Strongly disagree</td>\n",
       "      <td>0.178475</td>\n",
       "    </tr>\n",
       "  </tbody>\n",
       "</table>\n",
       "</div>"
      ],
      "text/plain": [
       "               scale  DifficultCommunication\n",
       "4     Strongly agree                0.021323\n",
       "3              Agree                0.085796\n",
       "1     Somewhat agree                0.215587\n",
       "0           Disagree                0.498819\n",
       "2  Strongly disagree                0.178475"
      ]
     },
     "execution_count": 464,
     "metadata": {},
     "output_type": "execute_result"
    }
   ],
   "source": [
    "agr_scale = ['Strongly agree', 'Agree', 'Somewhat agree', 'Disagree', 'Strongly disagree']\n",
    "agr_classes = pd.api.types.CategoricalDtype(ordered=True, categories=agr_scale)\n",
    "com_diff['scale'] = com_diff['scale'].astype(agr_classes)\n",
    "\n",
    "com_diff = com_diff.sort_values('scale')\n",
    "com_diff"
   ]
  },
  {
   "cell_type": "code",
   "execution_count": 615,
   "metadata": {},
   "outputs": [
    {
     "data": {
      "image/png": "[encoded data removed]",
      "text/plain": [
       "<Figure size 864x432 with 1 Axes>"
      ]
     },
     "metadata": {
      "needs_background": "light"
     },
     "output_type": "display_data"
    }
   ],
   "source": [
    "scale = com_diff['scale']\n",
    "communic = com_diff['DifficultCommunication']\n",
    "fig, ax = plt.subplots(figsize =(12, 6))\n",
    "ax.bar(scale, communic, color='black')\n",
    "for i in ax.patches: \n",
    "    height = i.get_height() + 0.01\n",
    "    plt.text(i.get_x() + i.get_width() - 0.54, 1.01*height,\n",
    "                '{:0.1f}%'.format(100*height), fontsize=15) \n",
    "\n",
    "ax.spines['top'].set_visible(False)\n",
    "ax.spines['right'].set_visible(False)\n",
    "ax.spines['left'].set_visible(False)\n",
    "plt.xticks(fontsize=13, rotation=0)\n",
    "plt.yticks([]);\n",
    "plt.title('I have difficulty communicating my ideas to my peers', fontsize=15, y=1.08);"
   ]
  },
  {
   "cell_type": "code",
   "execution_count": null,
   "metadata": {},
   "outputs": [],
   "source": []
  },
  {
   "cell_type": "code",
   "execution_count": null,
   "metadata": {},
   "outputs": [],
   "source": []
  },
  {
   "cell_type": "code",
   "execution_count": null,
   "metadata": {},
   "outputs": [],
   "source": []
  },
  {
   "cell_type": "code",
   "execution_count": null,
   "metadata": {},
   "outputs": [],
   "source": []
  },
  {
   "cell_type": "code",
   "execution_count": null,
   "metadata": {},
   "outputs": [],
   "source": []
  },
  {
   "cell_type": "code",
   "execution_count": null,
   "metadata": {},
   "outputs": [],
   "source": []
  },
  {
   "cell_type": "code",
   "execution_count": null,
   "metadata": {},
   "outputs": [],
   "source": []
  },
  {
   "cell_type": "code",
   "execution_count": null,
   "metadata": {},
   "outputs": [],
   "source": []
  },
  {
   "cell_type": "code",
   "execution_count": null,
   "metadata": {},
   "outputs": [],
   "source": []
  },
  {
   "cell_type": "code",
   "execution_count": null,
   "metadata": {},
   "outputs": [],
   "source": []
  },
  {
   "cell_type": "code",
   "execution_count": null,
   "metadata": {},
   "outputs": [],
   "source": []
  },
  {
   "cell_type": "code",
   "execution_count": null,
   "metadata": {},
   "outputs": [],
   "source": []
  },
  {
   "cell_type": "code",
   "execution_count": null,
   "metadata": {},
   "outputs": [],
   "source": []
  },
  {
   "cell_type": "code",
   "execution_count": null,
   "metadata": {},
   "outputs": [],
   "source": []
  },
  {
   "cell_type": "code",
   "execution_count": null,
   "metadata": {},
   "outputs": [],
   "source": []
  },
  {
   "cell_type": "code",
   "execution_count": null,
   "metadata": {},
   "outputs": [],
   "source": []
  },
  {
   "cell_type": "code",
   "execution_count": null,
   "metadata": {},
   "outputs": [],
   "source": []
  },
  {
   "cell_type": "code",
   "execution_count": null,
   "metadata": {},
   "outputs": [],
   "source": []
  },
  {
   "cell_type": "code",
   "execution_count": null,
   "metadata": {},
   "outputs": [],
   "source": []
  },
  {
   "cell_type": "code",
   "execution_count": null,
   "metadata": {},
   "outputs": [],
   "source": []
  },
  {
   "cell_type": "code",
   "execution_count": null,
   "metadata": {},
   "outputs": [],
   "source": []
  }
 ],
 "metadata": {
  "kernelspec": {
   "display_name": "Python 3.7.6 64-bit ('ROLD003': virtualenv)",
   "language": "python",
   "name": "python37664bitrold003virtualenv82ffed11f6f444ac89fd2ba5fdfbe0b0"
  },
  "language_info": {
   "codemirror_mode": {
    "name": "ipython",
    "version": 3
   },
   "file_extension": ".py",
   "mimetype": "text/x-python",
   "name": "python",
   "nbconvert_exporter": "python",
   "pygments_lexer": "ipython3",
   "version": "3.7.6"
  }
 },
 "nbformat": 4,
 "nbformat_minor": 4
}
